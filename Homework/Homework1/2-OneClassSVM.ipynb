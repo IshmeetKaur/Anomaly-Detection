{
 "cells": [
  {
   "cell_type": "code",
   "execution_count": 44,
   "metadata": {
    "collapsed": true
   },
   "outputs": [],
   "source": [
    "import scipy.io\n",
    "import numpy as np\n",
    "import matplotlib.pyplot as plt\n",
    "from sklearn import svm\n",
    "from sklearn.svm import OneClassSVM\n",
    "from sklearn.decomposition import PCA\n",
    "from sklearn.preprocessing import scale\n",
    "import timeit"
   ]
  },
  {
   "cell_type": "code",
   "execution_count": 42,
   "metadata": {
    "collapsed": false
   },
   "outputs": [],
   "source": [
    "#load the data\n",
    "data = scipy.io.loadmat('oc_514.mat')\n",
    "mdata= data['x']\n",
    "mdtype = mdata.dtype\n",
    "ndata = {n: mdata[n][0, 0] for n in mdtype.names}\n",
    "columns = [n for n, v in ndata.iteritems()]\n",
    "data =  ndata['data']"
   ]
  },
  {
   "cell_type": "code",
   "execution_count": 45,
   "metadata": {
    "collapsed": false
   },
   "outputs": [
    {
     "name": "stdout",
     "output_type": "stream",
     "text": [
      "0.353734970093\n"
     ]
    }
   ],
   "source": [
    "#Normalizing the data using PCA\n",
    "pca = PCA().fit(data)\n",
    "X_pca = pca.transform(data)\n",
    "X = X_pca\n",
    "X = X/X.max()\n",
    "X = scale(X)\n",
    "\n",
    "start = timeit.default_timer()\n",
    "#Apply SVM(kernel ='linear') and fit the normalized data\n",
    "svm = OneClassSVM(kernel ='linear')\n",
    "svm.fit(X)\n",
    "anomaly = svm.predict(X)\n",
    "\n",
    "#Finding the distance of the instances in the dataset to the hyperplane seperating them\n",
    "anomaly_score = - svm.decision_function(X)\n",
    "anomaly_normal = svm.predict(X)\n",
    "anomaly_score_normal = - svm.decision_function(X)\n",
    "\n",
    "\n",
    "# Learn a frontier for outlier detection with several classifiers\n",
    "xx1, yy1 = np.meshgrid(np.linspace(-200,400,139), np.linspace(0,0.10,420))\n",
    "Z1 = svm.decision_function(np.c_[xx1, yy1])\n",
    "stop = timeit.default_timer()\n",
    "print stop - start \n",
    "plt.scatter(Z1,anomaly)\n",
    "plt.show()\n"
   ]
  },
  {
   "cell_type": "code",
   "execution_count": 41,
   "metadata": {
    "collapsed": false
   },
   "outputs": [],
   "source": [
    "#Using kernel rbf to \n",
    "svm = OneClassSVM(kernel='rbf')\n",
    "svm.fit(X)\n",
    "anomaly = svm.predict(X)\n",
    "anomaly_score = - svm.decision_function(X)\n",
    "anomaly_normal = svm.predict(X)\n",
    "anomaly_score_normal = - svm.decision_function(X)\n",
    "\n",
    "xx1, yy1 = np.meshgrid(np.linspace(-200,400,139), np.linspace(0,0.10,139))\n",
    "Z1 = svm.decision_function(np.c_[xx1.ravel(), yy1.ravel()])\n",
    "Z1 = Z1.reshape(xx1.shape)\n",
    "\n",
    "\n",
    "plt.scatter(X[:, 0], X[:, 1], c=anomaly_score_normal)\n",
    "plt.colorbar()\n",
    "plt.contour( xx1, yy1, Z1, levels=[0], linewidths=2, cmap=plt.cm.Paired)\n",
    "plt.show()"
   ]
  }
 ],
 "metadata": {
  "kernelspec": {
   "display_name": "Python [Root]",
   "language": "python",
   "name": "Python [Root]"
  },
  "language_info": {
   "codemirror_mode": {
    "name": "ipython",
    "version": 2
   },
   "file_extension": ".py",
   "mimetype": "text/x-python",
   "name": "python",
   "nbconvert_exporter": "python",
   "pygments_lexer": "ipython2",
   "version": "2.7.12"
  }
 },
 "nbformat": 4,
 "nbformat_minor": 0
}
