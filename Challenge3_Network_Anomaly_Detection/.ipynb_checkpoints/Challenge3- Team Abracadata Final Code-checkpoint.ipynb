{
 "cells": [
  {
   "cell_type": "code",
   "execution_count": 41,
   "metadata": {
    "collapsed": false
   },
   "outputs": [],
   "source": [
    "#Import libraries:\n",
    "import pandas as pd\n",
    "import numpy as np\n",
    "from sklearn.multiclass import OneVsRestClassifier\n",
    "\n",
    "from sklearn.ensemble import GradientBoostingClassifier  #GBM algorithm\n",
    "from sklearn import metrics   #Additional scklearn functions\n",
    "from sklearn.grid_search import GridSearchCV   #Perforing grid search\n",
    "import matplotlib.pylab as plt\n",
    "from sklearn.datasets import fetch_20newsgroups_vectorized\n",
    "from lightning.classification import AdaGradClassifier\n",
    "%matplotlib inline\n",
    "from matplotlib.pylab import rcParams\n",
    "import statsmodels.api as sm\n",
    "from pandas import Series, DataFrame\n",
    "from sklearn import datasets, svm\n",
    "import  scipy.stats as stats\n",
    "from sklearn.svm import LinearSVC\n",
    "from scipy import interpolate\n",
    "from sklearn.neighbors import KNeighborsClassifier\n",
    "from sklearn.ensemble import RandomForestClassifier\n",
    "from sklearn.naive_bayes import GaussianNB\n",
    "from sklearn.tree import DecisionTreeClassifier\n",
    "from sklearn.cross_validation import  cross_val_score\n",
    "from sklearn.metrics import accuracy_score, precision_score, recall_score\n",
    "from sklearn.datasets import make_classification\n",
    "from sklearn.ensemble import ExtraTreesClassifier\n",
    "from sklearn.linear_model import LogisticRegression\n",
    "import time\n",
    "from datetime import datetime\n",
    "from sklearn.feature_extraction.text import CountVectorizer\n",
    "\n",
    "from sklearn import linear_model, decomposition, datasets\n",
    "from sklearn.pipeline import Pipeline\n",
    "\n",
    "from sklearn.feature_extraction.text import TfidfTransformer\n",
    "from sklearn.metrics import pairwise_kernels\n",
    "import re\n",
    "from nltk.corpus import stopwords\n",
    "from dateutil.parser import parse\n",
    "import nltk,string\n",
    "from sklearn.feature_extraction.text import CountVectorizer\n",
    "from nltk import word_tokenize          \n",
    "from nltk.stem.porter import PorterStemmer\n",
    "from sklearn import preprocessing\n",
    "from collections import OrderedDict\n",
    "from sklearn.feature_extraction.text import TfidfVectorizer\n",
    "import scipy.sparse\n",
    "from sklearn.pipeline import Pipeline\n",
    "from sklearn.feature_extraction.text import HashingVectorizer\n",
    "from sklearn.cross_validation import cross_val_score, ShuffleSplit\n",
    "from sklearn.decomposition import PCA\n",
    "from sklearn.pipeline import Pipeline, FeatureUnion\n",
    "from sklearn.svm import SVC\n",
    "from sklearn.datasets import load_iris\n",
    "from sklearn.ensemble import AdaBoostClassifier\n",
    "import pylab as pl\n",
    "from math import log\n",
    "from sklearn.feature_selection import SelectKBest\n",
    "from sklearn.feature_selection import VarianceThreshold\n",
    "from sklearn.ensemble import RandomForestRegressor\n",
    "from collections import Counter\n",
    "import matplotlib.pyplot as plt\n",
    "from sklearn.svm import SVC\n",
    "from sklearn.feature_selection import RFECV\n",
    "from sklearn.datasets import make_classification\n",
    "\n",
    "%matplotlib inline\n",
    "\n",
    "import matplotlib as mpl\n",
    "import matplotlib.pyplot as plt\n",
    "import seaborn as sns\n",
    "sns.set()\n",
    "\n",
    "import numpy as np\n",
    "import itertools\n",
    "\n",
    "from sklearn.datasets import make_classification\n",
    "from sklearn.decomposition import PCA\n",
    "from sklearn.svm import SVC\n",
    "from imblearn.under_sampling import RandomUnderSampler\n",
    "from imblearn.under_sampling import NearMiss\n",
    "from imblearn.under_sampling import CondensedNearestNeighbour\n",
    "from imblearn.under_sampling import OneSidedSelection\n",
    "from imblearn.under_sampling import NeighbourhoodCleaningRule\n",
    "from imblearn.under_sampling import TomekLinks\n",
    "from imblearn.under_sampling import ClusterCentroids\n",
    "from imblearn.under_sampling import EditedNearestNeighbours\n",
    "from imblearn.under_sampling import InstanceHardnessThreshold\n",
    "from imblearn.under_sampling import RepeatedEditedNearestNeighbours\n",
    "\n",
    "from sklearn.neighbors import KNeighborsClassifier as KNN\n",
    "from imblearn.over_sampling import RandomOverSampler\n",
    "from imblearn.over_sampling import SMOTE\n",
    "from imblearn.combine import SMOTETomek\n",
    "from imblearn.combine import SMOTEENN\n",
    "from imblearn.ensemble import EasyEnsemble\n",
    "from imblearn.ensemble import BalanceCascade\n"
   ]
  },
  {
   "cell_type": "code",
   "execution_count": 2,
   "metadata": {
    "collapsed": false
   },
   "outputs": [],
   "source": [
    "%matplotlib inline\n",
    "from sklearn.utils import shuffle\n",
    "import pandas as pd\n",
    "from sklearn import cross_validation\n",
    "from collections import Counter\n",
    "from sklearn.ensemble import BaggingClassifier\n",
    "from sklearn.tree import DecisionTreeClassifier\n",
    "import matplotlib as mpl\n",
    "from sklearn import preprocessing\n",
    "import matplotlib.pyplot as plt\n",
    "import seaborn as sns\n",
    "import numpy as np\n",
    "import itertools\n",
    "from sklearn.datasets import make_classification\n",
    "from sklearn.decomposition import PCA\n",
    "from sklearn.svm import SVC\n",
    "from imblearn.under_sampling import RandomUnderSampler\n",
    "from imblearn.under_sampling import NearMiss\n",
    "from imblearn.under_sampling import CondensedNearestNeighbour\n",
    "from imblearn.under_sampling import OneSidedSelection\n",
    "from imblearn.under_sampling import NeighbourhoodCleaningRule\n",
    "from imblearn.under_sampling import TomekLinks\n",
    "from imblearn.under_sampling import ClusterCentroids\n",
    "from imblearn.under_sampling import EditedNearestNeighbours\n",
    "from imblearn.under_sampling import InstanceHardnessThreshold\n",
    "from imblearn.under_sampling import RepeatedEditedNearestNeighbours\n",
    "from sklearn.neighbors import KNeighborsClassifier as KNN\n",
    "from imblearn.over_sampling import RandomOverSampler\n",
    "from imblearn.over_sampling import SMOTE\n",
    "from imblearn.combine import SMOTETomek\n",
    "from imblearn.combine import SMOTEENN\n",
    "from imblearn.ensemble import EasyEnsemble\n",
    "from imblearn.ensemble import BalanceCascade\n",
    "sns.set()"
   ]
  },
  {
   "cell_type": "code",
   "execution_count": 3,
   "metadata": {
    "collapsed": false
   },
   "outputs": [],
   "source": [
    "#Read File\n",
    "pd.set_option('display.max_colwidth', -1)\n",
    "features = pd.read_csv('features.csv.csv')# features"
   ]
  },
  {
   "cell_type": "code",
   "execution_count": 4,
   "metadata": {
    "collapsed": true
   },
   "outputs": [],
   "source": [
    "#pd.set_option('display.max_columns', 50)\n",
    "#pd.options.display.max_rows=5000\n",
    "trainData = pd.read_csv('training-set.csv')\n",
    "testData = pd.read_csv('testing-set.csv.csv')"
   ]
  },
  {
   "cell_type": "code",
   "execution_count": 5,
   "metadata": {
    "collapsed": true
   },
   "outputs": [],
   "source": [
    "trainData = trainData.drop(['proto'],axis=1)\n",
    "testData = testData.drop(['proto'],axis=1)"
   ]
  },
  {
   "cell_type": "code",
   "execution_count": 6,
   "metadata": {
    "collapsed": true
   },
   "outputs": [],
   "source": [
    "### Mapping Features"
   ]
  },
  {
   "cell_type": "code",
   "execution_count": 7,
   "metadata": {
    "collapsed": true
   },
   "outputs": [],
   "source": [
    "mymap_cat = {'Analysis': 1, 'Backdoor': 2,'DoS':3,'Exploits':4,'Fuzzers':5,'Generic':6,'Normal':7,'Reconnaissance':8,'Worms':9,'Shellcode':10}\n",
    "trainData['attack_cat'] =trainData['attack_cat'].map(mymap_cat ).astype(int)\n",
    "mymap_service = {'dns': 1, 'ftp': 2,'ftp-data':3,'http':4,'pop3':5,'radius':6,'smtp':7,'snmp':8,'ssh':9,'-':0}\n",
    "trainData['service'] =trainData['service'].map(mymap_service).astype(int)\n",
    "mymap_state = {'CON': 1, 'ECO': 2,'FIN':3,'INT':4,'PAR':5,'REQ':6,'RST':7,'URN':8,'no':9,'ACC':10,'CLO':11}\n",
    "trainData['state'] =trainData['state'].map(mymap_state).astype(int)"
   ]
  },
  {
   "cell_type": "code",
   "execution_count": 8,
   "metadata": {
    "collapsed": true
   },
   "outputs": [],
   "source": [
    "# mymap_cat = {'Analysis': 1, 'Backdoor': 2,'DoS':3,'Exploits':4,'Fuzzers':5,'Generic':6,'Normal':7,'Reconnaissance':8,'Worms':9,'Shellcode':10}\n",
    "# trainData['attack_cat'] =trainData['attack_cat'].map(mymap_cat ).astype(int)\n",
    "# mymap_proto = {'arp': 1, 'eigrp': 2,'gmtp':3,'icmp':4,'igmp':5,'ipx-n-ip':6,'ospf':7,'pim':8,'rtp':9,'rvd':10,'sctp':11,'tcp':12,'udp':13,'unas':14}\n",
    "# testData['proto'] =testData['proto'].map(mymap_proto).astype(int)\n",
    "mymap_service = {'dns': 1, 'ftp': 2,'ftp-data':3,'http':4,'pop3':5,'radius':6,'smtp':7,'snmp':8,'ssh':9,'-':0,'dhcp':10,'irc':11,'ssl':12}\n",
    "testData['service'] =testData['service'].map(mymap_service).astype(int)\n",
    "mymap_state = {'CON': 1, 'ECO': 2,'FIN':3,'INT':4,'PAR':5,'REQ':6,'RST':7,'URN':8,'no':9,'ACC':10,'CLO':11}\n",
    "testData['state'] =testData['state'].map(mymap_state).astype(int)"
   ]
  },
  {
   "cell_type": "code",
   "execution_count": 9,
   "metadata": {
    "collapsed": true
   },
   "outputs": [],
   "source": [
    "trainData_normal = trainData[trainData['attack_cat'] == 7]\n",
    "trainData_anomaly = trainData[trainData['attack_cat'] != 7]"
   ]
  },
  {
   "cell_type": "code",
   "execution_count": 10,
   "metadata": {
    "collapsed": true
   },
   "outputs": [],
   "source": [
    "trainData_anomaly = trainData_anomaly.drop(['label','attack_cat'],axis=1)\n",
    "trainData_normal = trainData_normal.drop(['label','attack_cat'],axis=1)"
   ]
  },
  {
   "cell_type": "code",
   "execution_count": 11,
   "metadata": {
    "collapsed": false
   },
   "outputs": [],
   "source": [
    "undersampled_df = trainData[trainData['attack_cat'] == 7].sample(n=41)\n",
    "undersampled_labelled = trainData[trainData['attack_cat'] != 7].sample(n=41)"
   ]
  },
  {
   "cell_type": "code",
   "execution_count": 12,
   "metadata": {
    "collapsed": false
   },
   "outputs": [
    {
     "data": {
      "text/plain": [
       "(82L, 44L)"
      ]
     },
     "execution_count": 12,
     "metadata": {},
     "output_type": "execute_result"
    }
   ],
   "source": [
    "undersampled_result = pd.concat([undersampled_df,undersampled_labelled])\n",
    "df = shuffle(undersampled_result)\n",
    "df.values.shape"
   ]
  },
  {
   "cell_type": "code",
   "execution_count": 13,
   "metadata": {
    "collapsed": true
   },
   "outputs": [],
   "source": [
    "y = df[['label']]\n",
    "train = df.drop(['label','attack_cat'],axis=1)"
   ]
  },
  {
   "cell_type": "code",
   "execution_count": 14,
   "metadata": {
    "collapsed": true
   },
   "outputs": [],
   "source": [
    "YtrainData = trainData[['label']]\n",
    "XtrainData = trainData.drop(['label','attack_cat'],axis=1)"
   ]
  },
  {
   "cell_type": "markdown",
   "metadata": {},
   "source": [
    "### Classification Algorithms"
   ]
  },
  {
   "cell_type": "code",
   "execution_count": 15,
   "metadata": {
    "collapsed": true
   },
   "outputs": [],
   "source": [
    "def CrossValidation_NaiveBayesClassifier(trainData,trainLabel):\n",
    "    cv_scores= []\n",
    "    for score in [\"accuracy\"]:\n",
    "        scores=cross_val_score(GaussianNB(),trainData,trainLabel,scoring=score, cv=5).mean()\n",
    "        cv_scores.append(scores)\n",
    "    return cv_scores\n",
    "\n",
    "\n",
    "def CrossValidation_DecisionTreeClassifier(trainData,trainLabel):\n",
    "    cv_scores= []\n",
    "    for score in [\"accuracy\"]:        \n",
    "        scores = cross_val_score(DecisionTreeClassifier(),trainData,trainLabel,scoring=score, cv=5).mean()\n",
    "        cv_scores.append(scores)\n",
    "    return cv_scores\n",
    "\n",
    "\n",
    "def CrossValidation_KNearestNeighbours(trainData,trainLabel,neighbours):\n",
    "    cv_scores= []\n",
    "    for score in [\"accuracy\"]:\n",
    "        scores = cross_val_score(KNeighborsClassifier(n_neighbors=neighbours),trainData,trainLabel,scoring=score, cv=10).mean()   \n",
    "        cv_scores.append(scores)\n",
    "    return cv_scores\n",
    "def CrossValidation_RandomForestn64(trainData,trainLabel):\n",
    "    #trees = param['trees']\n",
    "    cv_scores= []\n",
    "    for score in [\"accuracy\",'precision','recall','f1_weighted']:        \n",
    "        scores = cross_val_score(RandomForestClassifier(n_estimators=64),trainData,trainLabel,scoring=score, cv=10).mean()\n",
    "        cv_scores.append(scores)\n",
    "    return cv_scores\n",
    "\n",
    "def CrossValidation_RandomForestn67(trainData,trainLabel):\n",
    "    #trees = param['trees']\n",
    "    cv_scores= []\n",
    "    for score in [\"accuracy\",'precision','recall','f1_weighted']:        \n",
    "        scores = cross_val_score(RandomForestClassifier(n_estimators=67),trainData,trainLabel,scoring=score, cv=10).mean()\n",
    "        cv_scores.append(scores)\n",
    "    return cv_scores\n",
    "\n",
    "def CrossValidation_RandomForestn50(trainData,trainLabel):\n",
    "    #trees = param['trees']\n",
    "    cv_scores= []\n",
    "    for score in [\"accuracy\",'precision','recall','f1_weighted']:        \n",
    "        scores = cross_val_score(RandomForestClassifier(n_estimators=50,class_weight = \"balanced\"),trainData,trainLabel,scoring=score, cv=10).mean()\n",
    "        cv_scores.append(scores)\n",
    "    return cv_scores\n",
    "\n",
    "def CrossValidation_RandomForestn119(trainData,trainLabel):\n",
    "    #trees = param['trees']\n",
    "    cv_scores= []\n",
    "    for score in [\"accuracy\",'precision','recall','f1_weighted']:        \n",
    "        scores = cross_val_score(RandomForestClassifier(n_estimators=119),trainData,trainLabel,scoring=score, cv=10).mean()\n",
    "        cv_scores.append(scores)\n",
    "    return cv_scores\n",
    "\n",
    "def CrossValidation_RandomForestn172(trainData,trainLabel):\n",
    "    #trees = param['trees']\n",
    "    cv_scores= []\n",
    "    for score in [\"accuracy\",'precision','recall','f1_weighted']:        \n",
    "        scores = cross_val_score(RandomForestClassifier(n_estimators=172),trainData,trainLabel,scoring=score, cv=10).mean()\n",
    "        cv_scores.append(scores)\n",
    "    return cv_scores\n",
    "\n",
    "def CrossValidation_RandomForestn59(trainData,trainLabel):\n",
    "    #trees = param['trees']\n",
    "    cv_scores= []\n",
    "    for score in [\"accuracy\",'precision','recall','f1_weighted']:        \n",
    "        scores = cross_val_score(RandomForestClassifier(n_estimators=59),trainData,trainLabel,scoring=score, cv=10).mean()\n",
    "        cv_scores.append(scores)\n",
    "    return cv_scores\n",
    "\n",
    "def CrossValidation_RandomForestn92(trainData,trainLabel):\n",
    "    #trees = param['trees']\n",
    "    cv_scores= []\n",
    "    for score in [\"accuracy\",'precision','recall','f1_weighted']:        \n",
    "        scores = cross_val_score(RandomForestClassifier(n_estimators=92),trainData,trainLabel,scoring=score, cv=10).mean()\n",
    "        cv_scores.append(scores)\n",
    "    return cv_scores\n",
    "\n",
    "\n",
    "def CrossValidation_RandomForestn73(trainData,trainLabel):\n",
    "    #trees = param['trees']\n",
    "    cv_scores= []\n",
    "    for score in [\"accuracy\",'precision','recall','f1_weighted']:       \n",
    "        scores = cross_val_score(RandomForestClassifier(n_estimators=73),trainData,trainLabel,scoring=score, cv=10).mean()\n",
    "        cv_scores.append(scores)\n",
    "    return cv_scores\n",
    "\n",
    "def CrossValidation_RandomForestn118(trainData,trainLabel):\n",
    "    #trees = param['trees']\n",
    "    cv_scores= []\n",
    "    for score in [\"accuracy\",'precision','recall','f1_weighted']:       \n",
    "        scores = cross_val_score(RandomForestClassifier(n_estimators=118),trainData,trainLabel,scoring=score, cv=10).mean()\n",
    "        cv_scores.append(scores)\n",
    "    return cv_scores\n",
    "\n",
    "def CrossValidation_RandomForestn150(trainData,trainLabel):\n",
    "    #trees = param['trees']\n",
    "    cv_scores= []\n",
    "    for score in [\"accuracy\"]:       \n",
    "        scores = cross_val_score(RandomForestClassifier(n_estimators=150),trainData,trainLabel,scoring=score, cv=10).mean()\n",
    "        cv_scores.append(scores)\n",
    "    return cv_scores\n",
    "\n",
    "def CrossValidation_RandomForestn138(trainData,trainLabel):\n",
    "    #trees = param['trees']\n",
    "    cv_scores= []\n",
    "    for score in [\"accuracy\"]:       \n",
    "        scores = cross_val_score(RandomForestClassifier(n_estimators=138),trainData,trainLabel,scoring=score, cv=10).mean()\n",
    "        cv_scores.append(scores)\n",
    "    return cv_scores\n",
    "\n",
    "def CrossValidation_RandomForestn100(trainData,trainLabel):\n",
    "    #trees = param['trees']\n",
    "    cv_scores= []\n",
    "    for score in [\"accuracy\"]:       \n",
    "        scores = cross_val_score(RandomForestClassifier(n_estimators=100),trainData,trainLabel,scoring=score, cv=10).mean()\n",
    "        cv_scores.append(scores)\n",
    "    return cv_scores\n",
    "\n",
    "def CrossValidation_RandomForestn166(trainData,trainLabel):\n",
    "    #trees = param['trees']\n",
    "    cv_scores= []\n",
    "    for score in [\"accuracy\"]:       \n",
    "        scores = cross_val_score(RandomForestClassifier(n_estimators=166),trainData,trainLabel,scoring=score, cv=10).mean()\n",
    "        cv_scores.append(scores)\n",
    "    return cv_scores\n",
    "def CrossValidation_RandomForestn199(trainData,trainLabel):\n",
    "    #trees = param['trees']\n",
    "    cv_scores= []\n",
    "    for score in [\"accuracy\",'precision','recall','f1_weighted']:       \n",
    "        scores = cross_val_score(RandomForestClassifier(n_estimators=199),trainData,trainLabel,scoring=score, cv=10).mean()\n",
    "        cv_scores.append(scores)\n",
    "    return cv_scores\n",
    "\n",
    "def CrossValidation_RandomForestn76(trainData,trainLabel):\n",
    "    #trees = param['trees']\n",
    "    cv_scores= []\n",
    "    for score in [\"accuracy\",'precision','recall','f1_weighted']:       \n",
    "        scores = cross_val_score(RandomForestClassifier(n_estimators=76),trainData,trainLabel,scoring=score, cv=10).mean()\n",
    "        cv_scores.append(scores)\n",
    "    return cv_scores\n",
    "\n",
    "def CrossValidation_RandomForestn85(trainData,trainLabel):\n",
    "    #trees = param['trees']\n",
    "    cv_scores= []\n",
    "    for score in [\"accuracy\",'precision','recall','f1_weighted']:       \n",
    "        scores = cross_val_score(RandomForestClassifier(n_estimators=85),trainData,trainLabel,scoring=score, cv=10).mean()\n",
    "        cv_scores.append(scores)\n",
    "    return cv_scores\n",
    "\n",
    "def CrossValidation_RandomForestn62(trainData,trainLabel):\n",
    "    #trees = param['trees']\n",
    "    cv_scores= []\n",
    "    for score in [\"accuracy\",'precision','recall','f1_weighted']:       \n",
    "        scores = cross_val_score(RandomForestClassifier(n_estimators=62),trainData,trainLabel,scoring=score, cv=10).mean()\n",
    "        cv_scores.append(scores)\n",
    "    return cv_scores\n",
    "\n",
    "\n",
    "def CrossValidation_RandomForestn65(trainData,trainLabel):\n",
    "    #trees = param['trees']\n",
    "    cv_scores= []\n",
    "    for score in [\"accuracy\",'precision','recall','f1_weighted']:       \n",
    "        scores = cross_val_score(RandomForestClassifier(n_estimators=65),trainData,trainLabel,scoring=score, cv=10).mean()\n",
    "        cv_scores.append(scores)\n",
    "    return cv_scores\n",
    "\n",
    "def CrossValidation_RandomForestn77(trainData,trainLabel):\n",
    "    #trees = param['trees']\n",
    "    cv_scores= []\n",
    "    for score in [\"accuracy\",'precision','recall','f1_weighted']:       \n",
    "        scores = cross_val_score(RandomForestClassifier(n_estimators=77),trainData,trainLabel,scoring=score, cv=10).mean()\n",
    "        cv_scores.append(scores)\n",
    "    return cv_scores\n",
    "\n",
    "def CrossValidation_RandomForestn67(trainData,trainLabel):\n",
    "    #trees = param['trees']\n",
    "    cv_scores= []\n",
    "    for score in [\"accuracy\",'precision','recall','f1_weighted']:       \n",
    "        scores = cross_val_score(RandomForestClassifier(n_estimators=67),trainData,trainLabel,scoring=score, cv=10).mean()\n",
    "        cv_scores.append(scores)\n",
    "    return cv_scores\n",
    "\n",
    "def CrossValidation_RandomForestn70(trainData,trainLabel):\n",
    "    #trees = param['trees']\n",
    "    cv_scores= []\n",
    "    for score in [\"accuracy\",'precision','recall','f1_weighted']:       \n",
    "        scores = cross_val_score(RandomForestClassifier(n_estimators=70),trainData,trainLabel,scoring=score, cv=10).mean()\n",
    "        cv_scores.append(scores)\n",
    "    return cv_scores\n",
    "\n",
    "def CrossValidation_RandomForestn57(trainData,trainLabel):\n",
    "    #trees = param['trees']\n",
    "    cv_scores= []\n",
    "    for score in [\"accuracy\",'precision','recall','f1_weighted']:       \n",
    "        scores = cross_val_score(RandomForestClassifier(n_estimators=57),trainData,trainLabel,scoring=score, cv=10).mean()\n",
    "        cv_scores.append(scores)\n",
    "    return cv_scores\n",
    "\n",
    "def CrossValidation_RandomForestn140(trainData,trainLabel):\n",
    "    #trees = param['trees']\n",
    "    cv_scores= []\n",
    "    for score in [\"accuracy\",'precision','recall','f1_weighted']:       \n",
    "        scores = cross_val_score(RandomForestClassifier(n_estimators=140),trainData,trainLabel,scoring=score, cv=10).mean()\n",
    "        cv_scores.append(scores)\n",
    "    return cv_scores\n",
    "\n",
    "def CrossValidation_LogisticRegression(trainData,trainLabel):\n",
    "    cv_scores= []\n",
    "    for score in [\"accuracy\"]:       \n",
    "        scores = cross_val_score(LogisticRegression(),trainData,trainLabel,scoring=score, cv=5).mean()\n",
    "        cv_scores.append(scores)\n",
    "    return cv_scores\n",
    "\n",
    "\n",
    "def CrossValidation_LogisticRegression_AdaboostClassifier(trainData,trainLabel):\n",
    "    cv_scores= []\n",
    "    for score in [\"accuracy\"]:       \n",
    "        scores = cross_val_score(AdaBoostClassifier(),trainData,trainLabel,scoring=score, cv=5).mean()\n",
    "        cv_scores.append(scores)\n",
    "    return cv_scores\n",
    "\n",
    "\n",
    "\n",
    "def CrossValidation_LogisticRegression_AdaboostClassifier(trainData,trainLabel):\n",
    "    cv_scores= []\n",
    "    for score in [\"accuracy\"]:       \n",
    "        scores = cross_val_score(AdaBoostClassifier(),trainData,trainLabel,scoring=score, cv=5).mean()\n",
    "        cv_scores.append(scores)\n",
    "    return cv_scores\n",
    "\n",
    "\n",
    "def CrossValidation_LogisticRegression_NeuralNetworkClassifier(trainData,trainLabel):\n",
    "    cv_scores= []\n",
    "    for score in [\"accuracy\"]:       \n",
    "        scores = cross_val_score(Classifier(learning_rule=rule,\n",
    "        learning_rate=0.02,\n",
    "        n_iter=10),trainData,trainLabel,scoring=score, cv=6).mean()\n",
    "        cv_scores.append(scores)\n",
    "    return cv_scores\n",
    "\n",
    "def CrossValidation_SupportVectorMachine(trainData,trainLabel):\n",
    "    cv_scores= []\n",
    "    for score in [\"accuracy\"]:       \n",
    "        scores = cross_val_score(svm.SVC(kernel=\"linear\"),trainData,trainLabel,scoring=score, cv=5).mean()\n",
    "        cv_scores.append(scores)\n",
    "    return cv_scores\n",
    "\n",
    "def CrossValidation_GradientBoostinlassifier(trainData,trainLabel):\n",
    "    cv_scores= []\n",
    "    for score in [\"accuracy\"]:       \n",
    "        scores = cross_val_score(svm.SVC(kernel=\"linear\"),trainData,trainLabel,scoring=score, cv=5).mean()\n",
    "        cv_scores.append(scores)\n",
    "    return cv_scores\n",
    "\n",
    "\n",
    "def CrossValidation_ExtraTreesClassifier(trainData,trainLabel):\n",
    "    cv_scores= []\n",
    "    for score in [\"accuracy\",'precision','recall','f1_weighted']:     \n",
    "        scores = cross_val_score(ExtraTreesClassifier(n_estimators=186),trainData,trainLabel,scoring=score, cv=10).mean()\n",
    "        cv_scores.append(scores)\n",
    "    return cv_scores\n",
    "\n"
   ]
  },
  {
   "cell_type": "code",
   "execution_count": null,
   "metadata": {
    "collapsed": true
   },
   "outputs": [],
   "source": [
    "\n"
   ]
  },
  {
   "cell_type": "code",
   "execution_count": 16,
   "metadata": {
    "collapsed": false
   },
   "outputs": [],
   "source": [
    "def FindBestEstimatorRandomForest(inputData,inputLabels): \n",
    "    clfs = [ (\"RandomForestClassifier, max_features=None\",RandomForestClassifier(warm_start=True, max_features=None, oob_score=True,random_state=0))]\n",
    "    error_rate = OrderedDict((label, []) for label, _ in clfs)\n",
    "    min_estimators = 50\n",
    "    max_estimators = 200   \n",
    "\n",
    "    for label, clf in clfs:     \n",
    "        \n",
    "           for i in range(min_estimators, max_estimators + 1):\n",
    "                clf.set_params(n_estimators=i)\n",
    "                clf.fit(inputData,inputLabels)\n",
    "                oob_error = 1 - clf.oob_score_\n",
    "                error_rate[label].append((i, oob_error))\n",
    "                \n",
    "    for label, clf_err in error_rate.items():\n",
    "        xs, ys = zip(*clf_err)\n",
    "        plt.plot(xs, ys, label=label)\n",
    "\n",
    "    print(xs[ys.index(min(ys))])"
   ]
  },
  {
   "cell_type": "code",
   "execution_count": 17,
   "metadata": {
    "collapsed": true
   },
   "outputs": [],
   "source": [
    "def FindBestEstimatorExtraTreesClassifier(inputData,inputLabels): \n",
    "    clfs = [ (\"ExtraTreesClassifier, max_features=None\",ExtraTreesClassifier(warm_start=True, max_features=None, oob_score=True,random_state=0,bootstrap=True))]\n",
    "    error_rate = OrderedDict((label, []) for label, _ in clfs)\n",
    "    min_estimators = 50\n",
    "    max_estimators = 200   \n",
    "\n",
    "    for label, clf in clfs:     \n",
    "        \n",
    "           for i in range(min_estimators, max_estimators + 1):\n",
    "                clf.set_params(n_estimators=i)\n",
    "                clf.fit(inputData,inputLabels)\n",
    "                oob_error = 1 - clf.oob_score_\n",
    "                error_rate[label].append((i, oob_error))\n",
    "                \n",
    "    for label, clf_err in error_rate.items():\n",
    "        xs, ys = zip(*clf_err)\n",
    "        plt.plot(xs, ys, label=label)\n",
    "\n",
    "    print(xs[ys.index(min(ys))])"
   ]
  },
  {
   "cell_type": "code",
   "execution_count": 18,
   "metadata": {
    "collapsed": true
   },
   "outputs": [],
   "source": [
    "list_train_headers = list(XtrainData.columns.values)"
   ]
  },
  {
   "cell_type": "markdown",
   "metadata": {},
   "source": [
    "### Normalization"
   ]
  },
  {
   "cell_type": "code",
   "execution_count": 19,
   "metadata": {
    "collapsed": false
   },
   "outputs": [
    {
     "data": {
      "text/plain": [
       "(56041, 42)"
      ]
     },
     "execution_count": 19,
     "metadata": {},
     "output_type": "execute_result"
    }
   ],
   "source": [
    "X = XtrainData\n",
    "y = YtrainData\n",
    "X_normalized = preprocessing.normalize(X, norm='l2')\n",
    "Xtest_normalized = preprocessing.normalize(testData, norm='l2')\n",
    "X.shape"
   ]
  },
  {
   "cell_type": "markdown",
   "metadata": {},
   "source": [
    "### PCA"
   ]
  },
  {
   "cell_type": "code",
   "execution_count": 20,
   "metadata": {
    "collapsed": false
   },
   "outputs": [],
   "source": [
    "pca = PCA(n_components=10)\n",
    "pca_nonormalize = PCA(n_components=10)\n",
    "pca_test = PCA(n_components=10)\n",
    "\n",
    "y_pca = pca.fit(X)\n",
    "y_pcatest = pca.fit(testData)\n",
    "pca_nonormalize.fit(X_normalized)\n",
    "pca_test.fit(Xtest_normalized)\n",
    "# pca = PCA.fit(X)\n",
    "X_new = y_pca.transform(X)\n",
    "X_test = y_pcatest.transform(testData)"
   ]
  },
  {
   "cell_type": "code",
   "execution_count": 21,
   "metadata": {
    "collapsed": false
   },
   "outputs": [
    {
     "data": {
      "text/plain": [
       "<matplotlib.text.Text at 0x11db5b70>"
      ]
     },
     "execution_count": 21,
     "metadata": {},
     "output_type": "execute_result"
    },
    {
     "data": {
      "image/png": "[encoded data removed]",
      "text/plain": [
       "<matplotlib.figure.Figure at 0x1205e198>"
      ]
     },
     "metadata": {},
     "output_type": "display_data"
    }
   ],
   "source": [
    "logistic = linear_model.LogisticRegression()\n",
    "\n",
    "pca = decomposition.PCA()\n",
    "pipe = Pipeline(steps=[('pca', pca), ('logistic', logistic)])\n",
    "\n",
    "digits = datasets.load_digits()\n",
    "X_digits = digits.data\n",
    "y_digits = digits.target\n",
    "\n",
    "pca.fit(X_digits)\n",
    "\n",
    "plt.figure(1, figsize=(4, 3))\n",
    "plt.clf()\n",
    "plt.axes([.2, .2, .7, .7])\n",
    "plt.plot(pca.explained_variance_, linewidth=2)\n",
    "plt.axis('tight')\n",
    "plt.xlabel('n_components')\n",
    "plt.ylabel('explained_variance_')"
   ]
  },
  {
   "cell_type": "code",
   "execution_count": 22,
   "metadata": {
    "collapsed": false
   },
   "outputs": [
    {
     "data": {
      "image/png": "[encoded data removed]",
      "text/plain": [
       "<matplotlib.figure.Figure at 0xdb269e8>"
      ]
     },
     "metadata": {},
     "output_type": "display_data"
    }
   ],
   "source": [
    "n_components = [5, 8,10,15, 20,25,40]\n",
    "Cs = np.logspace(-4, 4, 3)\n",
    "from sklearn.model_selection import GridSearchCV\n",
    "#Parameters of pipelines can be set using ‘__’ separated parameter names:\n",
    "\n",
    "estimator = GridSearchCV(pipe,\n",
    "                         dict(pca__n_components=n_components,\n",
    "                              logistic__C=Cs))\n",
    "estimator.fit(X_digits, y_digits)\n",
    "\n",
    "plt.axvline(estimator.best_estimator_.named_steps['pca'].n_components,\n",
    "            linestyle=':', label='n_components chosen')\n",
    "plt.legend(prop=dict(size=12))\n",
    "plt.show()"
   ]
  },
  {
   "cell_type": "markdown",
   "metadata": {},
   "source": [
    "### Feature Engineering"
   ]
  },
  {
   "cell_type": "code",
   "execution_count": 23,
   "metadata": {
    "collapsed": true
   },
   "outputs": [],
   "source": [
    "def modelfit(alg, XtrainData, list_train_headers, performCV=True, printFeatureImportance=True, cv_folds=5):\n",
    "    #Fit the algorithm on the data\n",
    "    alg.fit(XtrainData[list_train_headers], YtrainData.values.ravel())\n",
    "        \n",
    "    #Predict training set:\n",
    "    dtrain_predictions = alg.predict(XtrainData[list_train_headers])\n",
    "    dtrain_predprob = alg.predict_proba(XtrainData[list_train_headers])[:,1]\n",
    "    \n",
    "    #Perform cross-validation:\n",
    "    if performCV:\n",
    "        cv_score = cross_validation.cross_val_score(alg, XtrainData[list_train_headers], YtrainData.values.ravel(), cv=cv_folds, scoring='roc_auc')\n",
    "    \n",
    "    #Print model report:\n",
    "    print \"\\nModel Report\"\n",
    "    print \"Accuracy : %.4g\" % metrics.accuracy_score(YtrainData.values, dtrain_predictions)\n",
    "    print \"AUC Score (Train): %f\" % metrics.roc_auc_score(YtrainData, dtrain_predprob)\n",
    "    \n",
    "    if performCV:\n",
    "        print \"CV Score : Mean - %.7g | Std - %.7g | Min - %.7g | Max - %.7g\" % (np.mean(cv_score),np.std(cv_score),np.min(cv_score),np.max(cv_score))\n",
    "        \n",
    "    #Print Feature Importance:\n",
    "    if printFeatureImportance:\n",
    "        feat_imp = pd.Series(alg.feature_importances_, list_train_headers).sort_values(ascending=False)\n",
    "        feat_imp.plot(kind='bar', title='Feature Importances')\n",
    "        plt.ylabel('Feature Importance Score')"
   ]
  },
  {
   "cell_type": "code",
   "execution_count": 24,
   "metadata": {
    "collapsed": false
   },
   "outputs": [
    {
     "name": "stdout",
     "output_type": "stream",
     "text": [
      "\n",
      "Model Report\n",
      "Accuracy : 1\n",
      "AUC Score (Train): 1.000000\n",
      "CV Score : Mean - 0.8593078 | Std - 0.1474387 | Min - 0.5874554 | Max - 1\n"
     ]
    },
    {
     "data": {
      "image/png": "[encoded data removed]",
      "text/plain": [
       "<matplotlib.figure.Figure at 0x12536518>"
      ]
     },
     "metadata": {},
     "output_type": "display_data"
    }
   ],
   "source": [
    "\n",
    "gbm0 = GradientBoostingClassifier(random_state=10)\n",
    "modelfit(gbm0, XtrainData, list_train_headers)"
   ]
  },
  {
   "cell_type": "markdown",
   "metadata": {},
   "source": [
    "### Undersampling"
   ]
  },
  {
   "cell_type": "code",
   "execution_count": 25,
   "metadata": {
    "collapsed": false
   },
   "outputs": [
    {
     "name": "stdout",
     "output_type": "stream",
     "text": [
      "Resampled dataset shape Counter({0: 41, 1: 41})\n"
     ]
    }
   ],
   "source": [
    "# 'Random under-sampling'\n",
    "US = RandomUnderSampler()\n",
    "usx, usy = US.fit_sample(XtrainData,YtrainData.values.ravel())\n",
    "print('Resampled dataset shape {}'.format(Counter(usy)))\n"
   ]
  },
  {
   "cell_type": "code",
   "execution_count": 26,
   "metadata": {
    "collapsed": false
   },
   "outputs": [
    {
     "name": "stderr",
     "output_type": "stream",
     "text": [
      "C:\\Users\\Ishmeet Kaur\\Anaconda2\\lib\\site-packages\\imblearn\\under_sampling\\nearmiss.py:161: UserWarning: The number of the samples to be selected is larger than the number of samples available. The balancing ratio cannot be ensure and all samples will be returned.\n",
      "  warnings.warn('The number of the samples to be selected is larger than'\n"
     ]
    }
   ],
   "source": [
    "# # Generate the new dataset using under-sampling method\n",
    "# 'Random under-sampling'\n",
    "US = RandomUnderSampler()\n",
    "usx, usy = US.fit_sample(XtrainData,YtrainData.values.ravel())\n",
    "# # 'Tomek links'\n",
    "TL = TomekLinks()\n",
    "tlx, tly = TL.fit_sample(XtrainData,YtrainData.values.ravel())\n",
    "# # 'Clustering centroids'\n",
    "CC = ClusterCentroids()\n",
    "ccx, ccy = CC.fit_sample(XtrainData,YtrainData.values.ravel())\n",
    "# # 'NearMiss-1'\n",
    "NM1 = NearMiss(version=1)\n",
    "nm1x, nm1y = NM1.fit_sample(XtrainData,YtrainData.values.ravel())\n",
    "# # 'NearMiss-2'\n",
    "NM2 = NearMiss(version=2)\n",
    "nm2x, nm2y = NM2.fit_sample(XtrainData,YtrainData.values.ravel())\n",
    "# # 'NearMiss-3'\n",
    "NM3 = NearMiss(version=3)\n",
    "nm3x, nm3y = NM3.fit_sample(XtrainData,YtrainData.values.ravel())\n",
    "# # 'Condensed Nearest Neighbour'\n",
    "CNN = CondensedNearestNeighbour()\n",
    "cnnx, cnny = CNN.fit_sample(XtrainData,YtrainData.values.ravel())\n",
    "# # 'One-Sided Selection'\n",
    "OSS = OneSidedSelection()\n",
    "ossx, ossy = OSS.fit_sample(XtrainData,YtrainData.values.ravel())\n",
    "# # 'Neighboorhood Cleaning Rule'\n",
    "NCR = NeighbourhoodCleaningRule()\n",
    "ncrx, ncry = NCR.fit_sample(XtrainData,YtrainData.values.ravel())\n",
    "# # 'Edited Neareast Neighbour'\n",
    "ENN = EditedNearestNeighbours()\n",
    "uennx, uenny = ENN.fit_sample(XtrainData,YtrainData.values.ravel())\n",
    "\n",
    "# # 'Repeated Edited Nearest Neighbour'\n",
    "RENN = RepeatedEditedNearestNeighbours()\n",
    "rennx, renny = RENN.fit_sample(XtrainData,YtrainData.values.ravel())\n"
   ]
  },
  {
   "cell_type": "markdown",
   "metadata": {},
   "source": [
    "### Ensembling( Balance Cascade] and Easy Ensembling)"
   ]
  },
  {
   "cell_type": "code",
   "execution_count": 27,
   "metadata": {
    "collapsed": false
   },
   "outputs": [
    {
     "name": "stdout",
     "output_type": "stream",
     "text": [
      "Original dataset shape Counter({0: 56000, 1: 41})\n",
      "Resampled dataset shape Counter({0: 41, 1: 41})\n"
     ]
    }
   ],
   "source": [
    "print('Original dataset shape {}'.format(Counter(YtrainData.values.ravel())))\n",
    "# Original dataset shape Counter({1: 900, 0: 100})\n",
    "bc = BalanceCascade(random_state=42)\n",
    "X_res, y_res = bc.fit_sample(XtrainData.values, YtrainData.values.ravel())\n",
    "print('Resampled dataset shape {}'.format(Counter(y_res[0])))\n",
    "# XtrainData.info()\n",
    "\n",
    "\n",
    "# 'EasyEnsemble'\n",
    "EE = EasyEnsemble()\n",
    "eex, eey = EE.fit_sample(XtrainData.values, YtrainData.values.ravel())\n",
    "EEX  = ((eex[0]+eex[1]+eex[2]+eex[3]+eex[4]+eex[5]+eex[6]+eex[7]+eex[8]+eex[9])/10)\n",
    "EEY = ((eey[0]+eey[1]+eey[2]+eey[3]+eey[4]+eey[5]+eey[6]+eey[7]+eey[8]+eey[9])/10)"
   ]
  },
  {
   "cell_type": "code",
   "execution_count": 28,
   "metadata": {
    "collapsed": false
   },
   "outputs": [
    {
     "name": "stdout",
     "output_type": "stream",
     "text": [
      "81\n"
     ]
    },
    {
     "data": {
      "image/png": "[encoded data removed]",
      "text/plain": [
       "<matplotlib.figure.Figure at 0x1207c7b8>"
      ]
     },
     "metadata": {},
     "output_type": "display_data"
    }
   ],
   "source": [
    "FindBestEstimatorRandomForest(usx, usy)"
   ]
  },
  {
   "cell_type": "code",
   "execution_count": 29,
   "metadata": {
    "collapsed": false
   },
   "outputs": [
    {
     "name": "stdout",
     "output_type": "stream",
     "text": [
      "50\n"
     ]
    },
    {
     "data": {
      "image/png": "[encoded data removed]",
      "text/plain": [
       "<matplotlib.figure.Figure at 0x125362e8>"
      ]
     },
     "metadata": {},
     "output_type": "display_data"
    }
   ],
   "source": [
    "FindBestEstimatorExtraTreesClassifier(usx, usy)"
   ]
  },
  {
   "cell_type": "markdown",
   "metadata": {},
   "source": [
    "### Oversampling"
   ]
  },
  {
   "cell_type": "code",
   "execution_count": 30,
   "metadata": {
    "collapsed": false
   },
   "outputs": [
    {
     "name": "stderr",
     "output_type": "stream",
     "text": [
      "C:\\Users\\Ishmeet Kaur\\Anaconda2\\lib\\site-packages\\sklearn\\utils\\class_weight.py:65: DeprecationWarning: The class_weight='auto' heuristic is deprecated in 0.17 in favor of a new heuristic class_weight='balanced'. 'auto' will be removed in 0.19\n",
      "  \" 0.19\", DeprecationWarning)\n"
     ]
    }
   ],
   "source": [
    "\n",
    "# 'Random over-sampling'\n",
    "OS = RandomOverSampler(ratio='auto')\n",
    "osx, osy = OS.fit_sample(XtrainData, YtrainData.values.ravel())\n",
    "\n",
    "# 'SMOTE'\n",
    "smote = SMOTE(ratio='auto', kind='regular')\n",
    "smox, smoy = smote.fit_sample(XtrainData,YtrainData.values.ravel())\n",
    "\n",
    "# 'SMOTE bordeline 1'\n",
    "bsmote1 = SMOTE(ratio='auto', kind='borderline1')\n",
    "bs1x, bs1y = bsmote1.fit_sample(XtrainData, YtrainData.values.ravel())\n",
    "\n",
    "# 'SMOTE bordeline 2'\n",
    "bsmote2 = SMOTE(ratio='auto', kind='borderline2')\n",
    "bs2x, bs2y = bsmote2.fit_sample(XtrainData, YtrainData.values.ravel())\n",
    "\n",
    "# 'SMOTE SVM'\n",
    "svm_args={'class_weight': 'auto'}\n",
    "svmsmote = SMOTE(ratio='auto', kind='svm', **svm_args)\n",
    "svsx, svsy = svmsmote.fit_sample(XtrainData, YtrainData.values.ravel())\n",
    "\n",
    "# 'SMOTE Tomek links'\n",
    "STK = SMOTETomek(ratio='auto')\n",
    "stkx, stky = STK.fit_sample(XtrainData, YtrainData.values.ravel())\n",
    "\n",
    "# 'SMOTE ENN'\n",
    "SENN = SMOTEENN(ratio='auto')\n",
    "ennx, enny = SENN.fit_sample(XtrainData, YtrainData.values.ravel())"
   ]
  },
  {
   "cell_type": "markdown",
   "metadata": {},
   "source": [
    "### Class Weighting"
   ]
  },
  {
   "cell_type": "code",
   "execution_count": 31,
   "metadata": {
    "collapsed": true
   },
   "outputs": [],
   "source": [
    "def CrossValidation_SGDClassifier(trainData,trainLabel):\n",
    "    cv_scores= []\n",
    "    for score in [\"accuracy\",\"precision\",\"recall\"]:\n",
    "        scores=cross_val_score(linear_model.SGDClassifier(n_iter=1000,loss=\"log\", alpha=0.00085,class_weight=\"balanced\"),trainData,trainLabel,scoring=score, cv=5).mean()\n",
    "        cv_scores.append(scores)\n",
    "    return cv_scores"
   ]
  },
  {
   "cell_type": "code",
   "execution_count": 32,
   "metadata": {
    "collapsed": true
   },
   "outputs": [],
   "source": [
    "def CrossValidation_SGDClassifier_linear(trainData,trainLabel):\n",
    "    cv_scores= []\n",
    "    for score in [\"accuracy\",\"precision\",\"recall\"]:\n",
    "        scores=cross_val_score(linear_model.SGDClassifier(loss=\"hinge\",n_iter=1000,alpha = 0.00074,class_weight=\"balanced\"),trainData,trainLabel,scoring=score, cv=5).mean()\n",
    "        cv_scores.append(scores)\n",
    "    return cv_scores"
   ]
  },
  {
   "cell_type": "code",
   "execution_count": 33,
   "metadata": {
    "collapsed": false
   },
   "outputs": [
    {
     "data": {
      "text/plain": [
       "[0.79550501569396315, 0.0040832122725786195, 0.76111111111111107]"
      ]
     },
     "execution_count": 33,
     "metadata": {},
     "output_type": "execute_result"
    }
   ],
   "source": [
    "CrossValidation_SGDClassifier(X_normalized,YtrainData.values.ravel())"
   ]
  },
  {
   "cell_type": "code",
   "execution_count": 34,
   "metadata": {
    "collapsed": false
   },
   "outputs": [
    {
     "data": {
      "text/plain": [
       "[0.77560870741614352, 0.0033409730502193431, 0.73611111111111105]"
      ]
     },
     "execution_count": 34,
     "metadata": {},
     "output_type": "execute_result"
    }
   ],
   "source": [
    "CrossValidation_SGDClassifier_linear(X_normalized,YtrainData.values.ravel())"
   ]
  },
  {
   "cell_type": "code",
   "execution_count": 35,
   "metadata": {
    "collapsed": true
   },
   "outputs": [],
   "source": [
    "### ADAGRAD- For correct learning rate"
   ]
  },
  {
   "cell_type": "code",
   "execution_count": 36,
   "metadata": {
    "collapsed": false
   },
   "outputs": [
    {
     "name": "stdout",
     "output_type": "stream",
     "text": [
      "0.999268392784\n",
      "1.0\n"
     ]
    }
   ],
   "source": [
    "clf =AdaGradClassifier(eta=1.0, alpha=0.0001, l1_ratio=0, loss='hinge', gamma=1.0, n_iter=1000, shuffle=True, callback=None, n_calls=None, random_state=None)\n",
    "\n",
    "# Train the model.\n",
    "clf.fit(X_normalized, YtrainData.values.ravel())\n",
    "\n",
    "# Accuracy\n",
    "print(clf.score(X_normalized, YtrainData.values.ravel()))\n",
    "\n",
    "# Percentage of selected features\n",
    "print(clf.n_nonzero(percentage=True))"
   ]
  },
  {
   "cell_type": "code",
   "execution_count": 37,
   "metadata": {
    "collapsed": false
   },
   "outputs": [
    {
     "data": {
      "text/plain": [
       "SGDClassifier(alpha=0.000738, average=False, class_weight='balanced',\n",
       "       epsilon=0.1, eta0=0.0, fit_intercept=True, l1_ratio=0.15,\n",
       "       learning_rate='optimal', loss='hinge', n_iter=1000, n_jobs=1,\n",
       "       penalty='l2', power_t=0.5, random_state=None, shuffle=True,\n",
       "       verbose=0, warm_start=False)"
      ]
     },
     "execution_count": 37,
     "metadata": {},
     "output_type": "execute_result"
    }
   ],
   "source": [
    "clf =linear_model.SGDClassifier(n_iter=1000,loss=\"hinge\", alpha = 0.000738,class_weight=\"balanced\")\n",
    "# CrossValidation_RandomForestn100(osx, osy)\n",
    "#(loss=\"hinge\", alpha=0.01, n_iter=200, fit_intercept=True)\n",
    "clf.fit(X_new,YtrainData.values.ravel())"
   ]
  },
  {
   "cell_type": "code",
   "execution_count": 50,
   "metadata": {
    "collapsed": false,
    "scrolled": true
   },
   "outputs": [
    {
     "data": {
      "text/plain": [
       "(56041, 1)"
      ]
     },
     "execution_count": 50,
     "metadata": {},
     "output_type": "execute_result"
    }
   ],
   "source": [
    "YtrainData.shape"
   ]
  },
  {
   "cell_type": "code",
   "execution_count": 52,
   "metadata": {
    "collapsed": false
   },
   "outputs": [
    {
     "name": "stderr",
     "output_type": "stream",
     "text": [
      "C:\\Users\\Ishmeet Kaur\\Anaconda2\\lib\\site-packages\\sklearn\\utils\\class_weight.py:65: DeprecationWarning: The class_weight='auto' heuristic is deprecated in 0.17 in favor of a new heuristic class_weight='balanced'. 'auto' will be removed in 0.19\n",
      "  \" 0.19\", DeprecationWarning)\n",
      "C:\\Users\\Ishmeet Kaur\\Anaconda2\\lib\\site-packages\\sklearn\\utils\\class_weight.py:65: DeprecationWarning: The class_weight='auto' heuristic is deprecated in 0.17 in favor of a new heuristic class_weight='balanced'. 'auto' will be removed in 0.19\n",
      "  \" 0.19\", DeprecationWarning)\n",
      "C:\\Users\\Ishmeet Kaur\\Anaconda2\\lib\\site-packages\\sklearn\\utils\\class_weight.py:65: DeprecationWarning: The class_weight='auto' heuristic is deprecated in 0.17 in favor of a new heuristic class_weight='balanced'. 'auto' will be removed in 0.19\n",
      "  \" 0.19\", DeprecationWarning)\n",
      "C:\\Users\\Ishmeet Kaur\\Anaconda2\\lib\\site-packages\\sklearn\\utils\\class_weight.py:65: DeprecationWarning: The class_weight='auto' heuristic is deprecated in 0.17 in favor of a new heuristic class_weight='balanced'. 'auto' will be removed in 0.19\n",
      "  \" 0.19\", DeprecationWarning)\n",
      "C:\\Users\\Ishmeet Kaur\\Anaconda2\\lib\\site-packages\\sklearn\\utils\\class_weight.py:65: DeprecationWarning: The class_weight='auto' heuristic is deprecated in 0.17 in favor of a new heuristic class_weight='balanced'. 'auto' will be removed in 0.19\n",
      "  \" 0.19\", DeprecationWarning)\n",
      "C:\\Users\\Ishmeet Kaur\\Anaconda2\\lib\\site-packages\\sklearn\\utils\\class_weight.py:65: DeprecationWarning: The class_weight='auto' heuristic is deprecated in 0.17 in favor of a new heuristic class_weight='balanced'. 'auto' will be removed in 0.19\n",
      "  \" 0.19\", DeprecationWarning)\n",
      "C:\\Users\\Ishmeet Kaur\\Anaconda2\\lib\\site-packages\\sklearn\\utils\\class_weight.py:65: DeprecationWarning: The class_weight='auto' heuristic is deprecated in 0.17 in favor of a new heuristic class_weight='balanced'. 'auto' will be removed in 0.19\n",
      "  \" 0.19\", DeprecationWarning)\n",
      "C:\\Users\\Ishmeet Kaur\\Anaconda2\\lib\\site-packages\\sklearn\\utils\\class_weight.py:65: DeprecationWarning: The class_weight='auto' heuristic is deprecated in 0.17 in favor of a new heuristic class_weight='balanced'. 'auto' will be removed in 0.19\n",
      "  \" 0.19\", DeprecationWarning)\n",
      "C:\\Users\\Ishmeet Kaur\\Anaconda2\\lib\\site-packages\\sklearn\\utils\\class_weight.py:65: DeprecationWarning: The class_weight='auto' heuristic is deprecated in 0.17 in favor of a new heuristic class_weight='balanced'. 'auto' will be removed in 0.19\n",
      "  \" 0.19\", DeprecationWarning)\n",
      "C:\\Users\\Ishmeet Kaur\\Anaconda2\\lib\\site-packages\\sklearn\\utils\\class_weight.py:65: DeprecationWarning: The class_weight='auto' heuristic is deprecated in 0.17 in favor of a new heuristic class_weight='balanced'. 'auto' will be removed in 0.19\n",
      "  \" 0.19\", DeprecationWarning)\n"
     ]
    },
    {
     "name": "stdout",
     "output_type": "stream",
     "text": [
      " Bagging SVC 101.106999874 0.746292892704\n"
     ]
    }
   ],
   "source": [
    "n_estimators = 10\n",
    "start = time.time()\n",
    "clf = OneVsRestClassifier(BaggingClassifier(SVC(kernel='linear', probability=True, class_weight='balanced'), max_samples=1.0 / n_estimators, n_estimators=n_estimators))\n",
    "clf.fit(X_normalized,YtrainData.values.ravel())\n",
    "end = time.time()\n",
    "print \"Bagging SVC\", end - start, clf.score(X_normalized,YtrainData.values.ravel())\n",
    "proba = clf.predict_proba(X)"
   ]
  },
  {
   "cell_type": "code",
   "execution_count": null,
   "metadata": {
    "collapsed": false
   },
   "outputs": [],
   "source": [
    "proba"
   ]
  },
  {
   "cell_type": "markdown",
   "metadata": {},
   "source": [
    "### Anomaly Detection"
   ]
  },
  {
   "cell_type": "code",
   "execution_count": 45,
   "metadata": {
    "collapsed": false
   },
   "outputs": [
    {
     "name": "stdout",
     "output_type": "stream",
     "text": [
      "\n"
     ]
    }
   ],
   "source": [
    "# Generate train data\n",
    "X = XtrainData\n",
    "X_train = XtrainData\n",
    "\n",
    "# Generate some regular novel observations\n",
    "X = trainData_normal\n",
    "X_test = testData\n",
    "\n",
    "# Generate some abnormal novel observations\n",
    "X_outliers = trainData_anomaly"
   ]
  },
  {
   "cell_type": "code",
   "execution_count": 46,
   "metadata": {
    "collapsed": false
   },
   "outputs": [],
   "source": [
    "# fit the model\n",
    "clf = svm.OneClassSVM(nu=0.5, kernel=\"linear\")\n",
    "clf.fit(X_train)\n",
    "\n",
    "y_pred_train = clf.predict(X_train)\n",
    "\n",
    "y_pred_test = clf.predict(X_test)\n",
    "\n",
    "y_pred_outliers = clf.predict(X_outliers)\n",
    "\n",
    "n_error_train = y_pred_train[y_pred_train == -1].size\n",
    "n_error_test = y_pred_test[y_pred_test == -1].size\n",
    "n_error_outliers = y_pred_outliers[y_pred_outliers == -1].size"
   ]
  },
  {
   "cell_type": "code",
   "execution_count": 47,
   "metadata": {
    "collapsed": false
   },
   "outputs": [
    {
     "data": {
      "text/plain": [
       "28021"
      ]
     },
     "execution_count": 47,
     "metadata": {},
     "output_type": "execute_result"
    }
   ],
   "source": [
    "y_pred_train[y_pred_train == -1].size"
   ]
  },
  {
   "cell_type": "code",
   "execution_count": null,
   "metadata": {
    "collapsed": true
   },
   "outputs": [],
   "source": [
    "y_pred_test[y_pred_test == 1].size"
   ]
  },
  {
   "cell_type": "markdown",
   "metadata": {},
   "source": [
    "### Classification uding Undersampling"
   ]
  },
  {
   "cell_type": "code",
   "execution_count": 73,
   "metadata": {
    "collapsed": false
   },
   "outputs": [
    {
     "name": "stdout",
     "output_type": "stream",
     "text": [
      "OriginalFeatures - 166 [0.97200215724590766]\n",
      "usx_score 166 [0.87249999999999994]\n",
      "score_TL -166 [0.97254561502956116]\n",
      "score_ccx 166 [0.96500000000000008]\n",
      "nm1x_score 166 [0.95999999999999996]\n",
      "nm2x_score 166 [0.94250000000000012]\n",
      "nm3x_score 166 [0.89000000000000001]\n",
      "cnnx_scoresvmsmote 166 [0.91559934318555014]\n",
      "ossx_score 166 [0.99345838192310154]\n",
      "ncrx 166 [0.9950518807817218]\n",
      "uennx_list 166 [0.97074179117540638]\n",
      "rennx_score 166 [0.9738640877227992]\n"
     ]
    }
   ],
   "source": [
    "score_featuremcs,score_usx_list,score_TL_list=[],[],[]\n",
    "score_ccx_list,nm1x_list,nm2x_list,nm3x_list,cnnx_list,ossx_list,ncrx_list = [],[],[],[],[],[],[]\n",
    "uennx_list,ihtx_list,rennx_list = [],[],[]\n",
    "\n",
    "# # score_featuremcs,score_ensemble_list=[],[]\n",
    "score = CrossValidation_RandomForestn166(XtrainData.values,YtrainData.values[:,0])\n",
    "print 'OriginalFeatures - 166', (score)\n",
    "score_featuremcs.append(score)\n",
    "\n",
    "usx_score = CrossValidation_RandomForestn166(usx,usy)\n",
    "print 'usx_score 166',(usx_score)\n",
    "score_usx_list.append(usx_score)\n",
    "\n",
    "score_TL = CrossValidation_RandomForestn166(tlx, tly)\n",
    "print 'score_TL -166',(score_TL)\n",
    "score_TL_list.append(score_TL)\n",
    "\n",
    "\n",
    "score_ccx = CrossValidation_RandomForestn166(ccx, ccy)\n",
    "print 'score_ccx 166', (score_ccx)\n",
    "score_ccx_list.append(score_ccx)\n",
    "\n",
    "nm1x_score = CrossValidation_RandomForestn166(nm1x, nm1y)\n",
    "print 'nm1x_score 166', (nm1x_score)\n",
    "nm1x_list.append(nm1x_score)\n",
    "\n",
    "nm2x_score = CrossValidation_RandomForestn166(nm2x, nm2y)\n",
    "print 'nm2x_score 166', (nm2x_score)\n",
    "nm2x_list.append(nm2x_score)\n",
    "\n",
    "nm3x_score = CrossValidation_RandomForestn166(nm3x, nm3y)\n",
    "print 'nm3x_score 166', (nm3x_score)\n",
    "nm3x_list.append(nm3x_score)\n",
    "\n",
    "cnnx_score= CrossValidation_RandomForestn166(cnnx, cnny)\n",
    "print 'cnnx_scoresvmsmote 166', (cnnx_score)\n",
    "cnnx_list.append(cnnx_score)\n",
    "\n",
    "ossx_score = CrossValidation_RandomForestn166(ossx, ossy)\n",
    "print 'ossx_score 166', (ossx_score)\n",
    "ossx_list.append(ossx_score)\n",
    "\n",
    "\n",
    "ncrx_score = CrossValidation_RandomForestn166(ncrx, ncry)\n",
    "print 'ncrx 166', (ncrx_score)\n",
    "ncrx_list.append(ncrx_score)\n",
    "\n",
    "uennx_score = CrossValidation_RandomForestn166(uennx, uenny)\n",
    "print 'uennx_list 166', (uennx_score)\n",
    "uennx_list.append(uennx_score)\n",
    "\n",
    "rennx_score = CrossValidation_RandomForestn166(rennx, renny)\n",
    "print 'rennx_score 166', (rennx_score)\n",
    "rennx_list.append(rennx_score)\n"
   ]
  },
  {
   "cell_type": "code",
   "execution_count": 74,
   "metadata": {
    "collapsed": false
   },
   "outputs": [
    {
     "name": "stdout",
     "output_type": "stream",
     "text": [
      "OriginalFeatures - 138 [0.97301928786689251]\n",
      "usx_score 138 [0.85999999999999999]\n",
      "score_TL -138 [0.97622286996572993]\n",
      "score_ccx 138 [0.97750000000000004]\n",
      "nm1x_score 138 [0.95999999999999996]\n",
      "nm2x_score 138 [0.96750000000000003]\n",
      "nm3x_score 138 [0.89000000000000001]\n",
      "cnnx_scoresvmsmote 138 [0.93345648604269305]\n",
      "ossx_score 138 [0.95304139280219202]\n",
      "ncrx 138 [0.972097254129346]\n",
      "uennx_list 138 [0.97798039707352979]\n",
      "rennx_score 138 [0.95364941867092079]\n"
     ]
    }
   ],
   "source": [
    "score = CrossValidation_RandomForestn138(XtrainData.values,YtrainData.values[:,0])\n",
    "print 'OriginalFeatures - 138', (score)\n",
    "score_featuremcs.append(score)\n",
    "\n",
    "usx_score = CrossValidation_RandomForestn138(usx,usy)\n",
    "print 'usx_score 138',(usx_score)\n",
    "score_usx_list.append(usx_score)\n",
    "\n",
    "score_TL = CrossValidation_RandomForestn138(tlx, tly)\n",
    "print 'score_TL -138',(score_TL)\n",
    "score_TL_list.append(score_TL)\n",
    "\n",
    "\n",
    "score_ccx = CrossValidation_RandomForestn138(ccx, ccy)\n",
    "print 'score_ccx 138', (score_ccx)\n",
    "score_ccx_list.append(score_ccx)\n",
    "\n",
    "nm1x_score = CrossValidation_RandomForestn138(nm1x, nm1y)\n",
    "print 'nm1x_score 138', (nm1x_score)\n",
    "nm1x_list.append(nm1x_score)\n",
    "\n",
    "nm2x_score = CrossValidation_RandomForestn138(nm2x, nm2y)\n",
    "print 'nm2x_score 138', (nm2x_score)\n",
    "nm2x_list.append(nm2x_score)\n",
    "\n",
    "nm3x_score = CrossValidation_RandomForestn166(nm3x, nm3y)\n",
    "print 'nm3x_score 138', (nm3x_score)\n",
    "nm3x_list.append(nm3x_score)\n",
    "\n",
    "cnnx_score= CrossValidation_RandomForestn138(cnnx, cnny)\n",
    "print 'cnnx_scoresvmsmote 138', (cnnx_score)\n",
    "cnnx_list.append(cnnx_score)\n",
    "\n",
    "ossx_score = CrossValidation_RandomForestn166(ossx, ossy)\n",
    "print 'ossx_score 138', (ossx_score)\n",
    "ossx_list.append(ossx_score)\n",
    "\n",
    "\n",
    "ncrx_score = CrossValidation_RandomForestn138(ncrx, ncry)\n",
    "print 'ncrx 138', (ncrx_score)\n",
    "ncrx_list.append(ncrx_score)\n",
    "\n",
    "uennx_score = CrossValidation_RandomForestn166(uennx, uenny)\n",
    "print 'uennx_list 138', (uennx_score)\n",
    "uennx_list.append(uennx_score)\n",
    "\n",
    "\n",
    "rennx_score = CrossValidation_RandomForestn138(rennx, renny)\n",
    "print 'rennx_score 138', (rennx_score)\n",
    "rennx_list.append(rennx_score)\n"
   ]
  },
  {
   "cell_type": "code",
   "execution_count": 75,
   "metadata": {
    "collapsed": false
   },
   "outputs": [
    {
     "name": "stdout",
     "output_type": "stream",
     "text": [
      "OriginalFeatures - 150 [0.97266239992970482]\n",
      "usx_score 150 [0.87249999999999994]\n",
      "score_TL -150 [0.98338102776651548]\n",
      "score_ccx 150 [0.96500000000000008]\n",
      "nm1x_score 166 [0.95999999999999996]\n",
      "nm2x_score 150 [0.96500000000000008]\n",
      "nm3x_score 150 [0.86750000000000005]\n",
      "cnnx_scoresvmsmote 150 [0.92644499178981943]\n",
      "ossx_score 150 [0.98085317916870218]\n",
      "ncrx 150 [0.97227589254669733]\n",
      "uennx_list 150 [0.97117074559899896]\n",
      "rennx_score 150 [0.98518788020938231]\n"
     ]
    }
   ],
   "source": [
    "score = CrossValidation_RandomForestn150(XtrainData.values,YtrainData.values[:,0])\n",
    "print 'OriginalFeatures - 150', (score)\n",
    "score_featuremcs.append(score)\n",
    "\n",
    "usx_score = CrossValidation_RandomForestn166(usx,usy)\n",
    "print 'usx_score 150',(usx_score)\n",
    "score_usx_list.append(usx_score)\n",
    "\n",
    "score_TL = CrossValidation_RandomForestn166(tlx, tly)\n",
    "print 'score_TL -150',(score_TL)\n",
    "score_TL_list.append(score_TL)\n",
    "\n",
    "score_ccx = CrossValidation_RandomForestn150(ccx, ccy)\n",
    "print 'score_ccx 150', (score_ccx)\n",
    "score_ccx_list.append(score_ccx)\n",
    "\n",
    "nm1x_score = CrossValidation_RandomForestn150(nm1x, nm1y)\n",
    "print 'nm1x_score 166', (nm1x_score)\n",
    "nm1x_list.append(nm1x_score)\n",
    "\n",
    "nm2x_score = CrossValidation_RandomForestn150(nm2x, nm2y)\n",
    "print 'nm2x_score 150', (nm2x_score)\n",
    "nm2x_list.append(nm2x_score)\n",
    "\n",
    "nm3x_score = CrossValidation_RandomForestn150(nm3x, nm3y)\n",
    "print 'nm3x_score 150', (nm3x_score)\n",
    "nm3x_list.append(nm3x_score)\n",
    "\n",
    "cnnx_score= CrossValidation_RandomForestn150(cnnx, cnny)\n",
    "print 'cnnx_scoresvmsmote 150', (cnnx_score)\n",
    "cnnx_list.append(cnnx_score)\n",
    "\n",
    "ossx_score = CrossValidation_RandomForestn150(ossx, ossy)\n",
    "print 'ossx_score 150', (ossx_score)\n",
    "ossx_list.append(ossx_score)\n",
    "\n",
    "ncrx_score = CrossValidation_RandomForestn150(ncrx, ncry)\n",
    "print 'ncrx 150', (ncrx_score)\n",
    "ncrx_list.append(ncrx_score)\n",
    "\n",
    "uennx_score = CrossValidation_RandomForestn150(uennx, uenny)\n",
    "print 'uennx_list 150', (uennx_score)\n",
    "uennx_list.append(uennx_score)\n",
    "\n",
    "rennx_score = CrossValidation_RandomForestn150(rennx, renny)\n",
    "print 'rennx_score 150', (rennx_score)\n",
    "rennx_list.append(rennx_score)\n"
   ]
  },
  {
   "cell_type": "code",
   "execution_count": 76,
   "metadata": {
    "collapsed": false
   },
   "outputs": [
    {
     "name": "stdout",
     "output_type": "stream",
     "text": [
      "OriginalFeatures - 100 [0.9854746768747441]\n",
      "usx_score 100 [0.84749999999999992]\n",
      "score_TL -100 [0.98661201669903953]\n",
      "score_ccx 100 [0.95250000000000001]\n",
      "nm1x_score 100 [0.95999999999999996]\n",
      "nm2x_score 100 [0.97750000000000004]\n",
      "nm3x_score 166 [0.89250000000000007]\n",
      "cnnx_scoresvmsmote 100 [0.93357963875205263]\n",
      "ossx_score 100 [0.9919664119299656]\n",
      "ncrx 100 [0.9758843241294054]\n",
      "uennx_list 100 [0.99722972683224287]\n",
      "rennx_score 100 [0.93003582296430187]\n"
     ]
    }
   ],
   "source": [
    "score = CrossValidation_RandomForestn100(XtrainData.values,YtrainData.values[:,0])\n",
    "print 'OriginalFeatures - 100', (score)\n",
    "score_featuremcs.append(score)\n",
    "\n",
    "usx_score = CrossValidation_RandomForestn100(usx,usy)\n",
    "print 'usx_score 100',(usx_score)\n",
    "score_usx_list.append(usx_score)\n",
    "\n",
    "score_TL = CrossValidation_RandomForestn100(tlx, tly)\n",
    "print 'score_TL -100',(score_TL)\n",
    "score_TL_list.append(score_TL)\n",
    "\n",
    "score_ccx = CrossValidation_RandomForestn100(ccx, ccy)\n",
    "print 'score_ccx 100', (score_ccx)\n",
    "score_ccx_list.append(score_ccx)\n",
    "\n",
    "nm1x_score = CrossValidation_RandomForestn100(nm1x, nm1y)\n",
    "print 'nm1x_score 100', (nm1x_score)\n",
    "nm1x_list.append(nm1x_score)\n",
    "\n",
    "nm2x_score = CrossValidation_RandomForestn100(nm2x, nm2y)\n",
    "print 'nm2x_score 100', (nm2x_score)\n",
    "nm2x_list.append(nm2x_score)\n",
    "\n",
    "nm3x_score = CrossValidation_RandomForestn100(nm3x, nm3y)\n",
    "print 'nm3x_score 166', (nm3x_score)\n",
    "nm3x_list.append(nm3x_score)\n",
    "\n",
    "cnnx_score= CrossValidation_RandomForestn100(cnnx, cnny)\n",
    "print 'cnnx_scoresvmsmote 100', (cnnx_score)\n",
    "cnnx_list.append(cnnx_score)\n",
    "\n",
    "ossx_score = CrossValidation_RandomForestn100(ossx, ossy)\n",
    "print 'ossx_score 100', (ossx_score)\n",
    "ossx_list.append(ossx_score)\n",
    "\n",
    "ncrx_score = CrossValidation_RandomForestn100(ncrx, ncry)\n",
    "print 'ncrx 100', (ncrx_score)\n",
    "ncrx_list.append(ncrx_score)\n",
    "\n",
    "uennx_score = CrossValidation_RandomForestn100(uennx, uenny)\n",
    "print 'uennx_list 100', (uennx_score)\n",
    "uennx_list.append(uennx_score)\n",
    "\n",
    "rennx_score = CrossValidation_RandomForestn100(rennx, renny)\n",
    "print 'rennx_score 100', (rennx_score)\n",
    "rennx_list.append(rennx_score)\n"
   ]
  },
  {
   "cell_type": "code",
   "execution_count": 77,
   "metadata": {
    "collapsed": false
   },
   "outputs": [
    {
     "name": "stdout",
     "output_type": "stream",
     "text": [
      "NB  [0.9834047395762392]\n",
      "NB  [0.72222222222222221]\n",
      "NB  [0.98340032507412833]\n",
      "NB  [0.81944444444444442]\n",
      "NB  [0.91249999999999998]\n",
      "NB  [0.98750000000000004]\n",
      "NB  [0.62361111111111112]\n",
      "NB  [0.84281609195402307]\n",
      "NB  [0.98552099064445287]\n",
      "NB  [0.9834420221028829]\n",
      "NB  [0.98341400184701511]\n",
      "NB  [0.98343493201839594]\n"
     ]
    }
   ],
   "source": [
    "score = CrossValidation_NaiveBayesClassifier(XtrainData.values,YtrainData.values[:,0])\n",
    "print 'NB ', (score)\n",
    "score_featuremcs.append(score)\n",
    "\n",
    "usx_score = CrossValidation_NaiveBayesClassifier(usx,usy)\n",
    "print 'NB ',(usx_score)\n",
    "score_usx_list.append(usx_score)\n",
    "\n",
    "score_TL = CrossValidation_NaiveBayesClassifier(tlx, tly)\n",
    "print 'NB ',(score_TL)\n",
    "score_TL_list.append(score_TL)\n",
    "\n",
    "score_ccx = CrossValidation_NaiveBayesClassifier(ccx, ccy)\n",
    "print 'NB ', (score_ccx)\n",
    "score_ccx_list.append(score_ccx)\n",
    "\n",
    "nm1x_score = CrossValidation_NaiveBayesClassifier(nm1x, nm1y)\n",
    "print 'NB ', (nm1x_score)\n",
    "nm1x_list.append(nm1x_score)\n",
    "\n",
    "nm2x_score = CrossValidation_NaiveBayesClassifier(nm2x, nm2y)\n",
    "print 'NB ', (nm2x_score)\n",
    "nm2x_list.append(nm2x_score)\n",
    "\n",
    "nm3x_score = CrossValidation_NaiveBayesClassifier(nm3x, nm3y)\n",
    "print 'NB ', (nm3x_score)\n",
    "nm3x_list.append(nm3x_score)\n",
    "\n",
    "cnnx_score= CrossValidation_NaiveBayesClassifier(cnnx, cnny)\n",
    "print 'NB ', (cnnx_score)\n",
    "cnnx_list.append(cnnx_score)\n",
    "\n",
    "ossx_score = CrossValidation_NaiveBayesClassifier(ossx, ossy)\n",
    "print 'NB ', (ossx_score)\n",
    "ossx_list.append(ossx_score)\n",
    "\n",
    "ncrx_score = CrossValidation_NaiveBayesClassifier(ncrx, ncry)\n",
    "print 'NB ', (ncrx_score)\n",
    "ncrx_list.append(ncrx_score)\n",
    "\n",
    "uennx_score = CrossValidation_NaiveBayesClassifier(uennx, uenny)\n",
    "print 'NB ', (uennx_score)\n",
    "uennx_list.append(uennx_score)\n",
    "\n",
    "rennx_score = CrossValidation_NaiveBayesClassifier(rennx, renny)\n",
    "print 'NB ', (rennx_score)\n",
    "rennx_list.append(rennx_score)\n"
   ]
  },
  {
   "cell_type": "code",
   "execution_count": 78,
   "metadata": {
    "collapsed": false
   },
   "outputs": [
    {
     "name": "stdout",
     "output_type": "stream",
     "text": [
      "DT  [0.8346538250688097]\n",
      "DT  [0.81666666666666676]\n",
      "DT  [0.83469880792216988]\n",
      "DT  [0.93888888888888888]\n",
      "DT  [0.96388888888888891]\n",
      "DT  [0.97499999999999998]\n",
      "DT  [0.86527777777777781]\n",
      "DT  [0.82630714717829057]\n",
      "DT  [0.83286156613540663]\n",
      "DT  [0.83463428341889156]\n",
      "DT  [0.83472745597111486]\n",
      "DT  [0.83484795555340818]\n"
     ]
    }
   ],
   "source": [
    "score = CrossValidation_DecisionTreeClassifier(XtrainData.values,YtrainData.values[:,0])\n",
    "print 'DT ', (score)\n",
    "score_featuremcs.append(score)\n",
    "\n",
    "usx_score = CrossValidation_DecisionTreeClassifier(usx,usy)\n",
    "print 'DT ',(usx_score)\n",
    "score_usx_list.append(usx_score)\n",
    "\n",
    "score_TL = CrossValidation_DecisionTreeClassifier(tlx, tly)\n",
    "print 'DT ',(score_TL)\n",
    "score_TL_list.append(score_TL)\n",
    "\n",
    "score_ccx = CrossValidation_DecisionTreeClassifier(ccx, ccy)\n",
    "print 'DT ', (score_ccx)\n",
    "score_ccx_list.append(score_ccx)\n",
    "\n",
    "nm1x_score = CrossValidation_DecisionTreeClassifier(nm1x, nm1y)\n",
    "print 'DT ', (nm1x_score)\n",
    "nm1x_list.append(nm1x_score)\n",
    "\n",
    "nm2x_score = CrossValidation_DecisionTreeClassifier(nm2x, nm2y)\n",
    "print 'DT ', (nm2x_score)\n",
    "nm2x_list.append(nm2x_score)\n",
    "\n",
    "nm3x_score = CrossValidation_DecisionTreeClassifier(nm3x, nm3y)\n",
    "print 'DT ', (nm3x_score)\n",
    "nm3x_list.append(nm3x_score)\n",
    "\n",
    "cnnx_score= CrossValidation_DecisionTreeClassifier(cnnx, cnny)\n",
    "print 'DT ', (cnnx_score)\n",
    "cnnx_list.append(cnnx_score)\n",
    "\n",
    "ossx_score = CrossValidation_DecisionTreeClassifier(ossx, ossy)\n",
    "print 'DT ', (ossx_score)\n",
    "ossx_list.append(ossx_score)\n",
    "\n",
    "ncrx_score = CrossValidation_DecisionTreeClassifier(ncrx, ncry)\n",
    "print 'DT ', (ncrx_score)\n",
    "ncrx_list.append(ncrx_score)\n",
    "\n",
    "uennx_score = CrossValidation_DecisionTreeClassifier(uennx, uenny)\n",
    "print 'DT ', (uennx_score)\n",
    "uennx_list.append(uennx_score)\n",
    "\n",
    "rennx_score = CrossValidation_DecisionTreeClassifier(rennx, renny)\n",
    "print 'DT ', (rennx_score)\n",
    "rennx_list.append(rennx_score)\n"
   ]
  },
  {
   "cell_type": "code",
   "execution_count": 79,
   "metadata": {
    "collapsed": false
   },
   "outputs": [
    {
     "name": "stdout",
     "output_type": "stream",
     "text": [
      "LR  [0.99925054965963989]\n",
      "LR  [0.78194444444444444]\n",
      "LR  [0.99926821251475262]\n",
      "LR  [0.81944444444444442]\n",
      "LR  [0.91249999999999998]\n",
      "LR  [0.79583333333333328]\n",
      "LR  [0.7583333333333333]\n",
      "LR  [0.82422651456226759]\n",
      "LR  [0.99919671216360828]\n",
      "LR  [0.99926767533651772]\n",
      "LR  [0.99924938565450339]\n",
      "LR  [0.99926658900231546]\n"
     ]
    }
   ],
   "source": [
    "score = CrossValidation_LogisticRegression(XtrainData.values,YtrainData.values[:,0])\n",
    "print 'LR ', (score)\n",
    "score_featuremcs.append(score)\n",
    "\n",
    "usx_score = CrossValidation_LogisticRegression(usx,usy)\n",
    "print 'LR ',(usx_score)\n",
    "score_usx_list.append(usx_score)\n",
    "\n",
    "score_TL = CrossValidation_LogisticRegression(tlx, tly)\n",
    "print 'LR ',(score_TL)\n",
    "score_TL_list.append(score_TL)\n",
    "\n",
    "score_ccx = CrossValidation_LogisticRegression(ccx, ccy)\n",
    "print 'LR ', (score_ccx)\n",
    "score_ccx_list.append(score_ccx)\n",
    "\n",
    "nm1x_score = CrossValidation_LogisticRegression(nm1x, nm1y)\n",
    "print 'LR ', (nm1x_score)\n",
    "nm1x_list.append(nm1x_score)\n",
    "\n",
    "nm2x_score = CrossValidation_LogisticRegression(nm2x, nm2y)\n",
    "print 'LR ', (nm2x_score)\n",
    "nm2x_list.append(nm2x_score)\n",
    "\n",
    "nm3x_score = CrossValidation_LogisticRegression(nm3x, nm3y)\n",
    "print 'LR ', (nm3x_score)\n",
    "nm3x_list.append(nm3x_score)\n",
    "\n",
    "cnnx_score= CrossValidation_LogisticRegression(cnnx, cnny)\n",
    "print 'LR ', (cnnx_score)\n",
    "cnnx_list.append(cnnx_score)\n",
    "\n",
    "ossx_score = CrossValidation_LogisticRegression(ossx, ossy)\n",
    "print 'LR ', (ossx_score)\n",
    "ossx_list.append(ossx_score)\n",
    "\n",
    "ncrx_score = CrossValidation_LogisticRegression(ncrx, ncry)\n",
    "print 'LR ', (ncrx_score)\n",
    "ncrx_list.append(ncrx_score)\n",
    "\n",
    "uennx_score = CrossValidation_LogisticRegression(uennx, uenny)\n",
    "print 'LR ', (uennx_score)\n",
    "uennx_list.append(uennx_score)\n",
    "\n",
    "\n",
    "rennx_score = CrossValidation_LogisticRegression(rennx, renny)\n",
    "print 'LR ', (rennx_score)\n",
    "rennx_list.append(rennx_score)\n"
   ]
  },
  {
   "cell_type": "code",
   "execution_count": 80,
   "metadata": {
    "collapsed": false
   },
   "outputs": [
    {
     "name": "stdout",
     "output_type": "stream",
     "text": [
      "KNN  [0.99925055125019013]\n",
      "KNN  [0.78249999999999997]\n",
      "KNN  [0.99925036333373818]\n",
      "KNN  [0.745]\n",
      "KNN  [0.94000000000000006]\n",
      "KNN  [0.97499999999999998]\n",
      "KNN  [0.64249999999999996]\n",
      "KNN  [0.83850574712643677]\n",
      "KNN  [0.99919671398124998]\n",
      "KNN  [0.99924981499405929]\n",
      "KNN  [0.99924938724332435]\n",
      "KNN  [0.99924870310741443]\n"
     ]
    }
   ],
   "source": [
    "score = CrossValidation_KNearestNeighbours(XtrainData.values,YtrainData.values[:,0],5)\n",
    "print 'KNN ', (score)\n",
    "score_featuremcs.append(score)\n",
    "\n",
    "usx_score = CrossValidation_KNearestNeighbours(usx,usy,5)\n",
    "print 'KNN ',(usx_score)\n",
    "score_usx_list.append(usx_score)\n",
    "\n",
    "score_TL = CrossValidation_KNearestNeighbours(tlx, tly,5)\n",
    "print 'KNN ',(score_TL)\n",
    "score_TL_list.append(score_TL)\n",
    "\n",
    "score_ccx = CrossValidation_KNearestNeighbours(ccx, ccy,5)\n",
    "print 'KNN ', (score_ccx)\n",
    "score_ccx_list.append(score_ccx)\n",
    "\n",
    "nm1x_score = CrossValidation_KNearestNeighbours(nm1x, nm1y,5)\n",
    "print 'KNN ', (nm1x_score)\n",
    "nm1x_list.append(nm1x_score)\n",
    "\n",
    "\n",
    "nm2x_score = CrossValidation_KNearestNeighbours(nm2x, nm2y,5)\n",
    "print 'KNN ', (nm2x_score)\n",
    "nm2x_list.append(nm2x_score)\n",
    "\n",
    "\n",
    "nm3x_score = CrossValidation_KNearestNeighbours(nm3x, nm3y,5)\n",
    "print 'KNN ', (nm3x_score)\n",
    "nm3x_list.append(nm3x_score)\n",
    "\n",
    "cnnx_score= CrossValidation_KNearestNeighbours(cnnx, cnny,5)\n",
    "print 'KNN ', (cnnx_score)\n",
    "cnnx_list.append(cnnx_score)\n",
    "\n",
    "ossx_score = CrossValidation_KNearestNeighbours(ossx, ossy,5)\n",
    "print 'KNN ', (ossx_score)\n",
    "ossx_list.append(ossx_score)\n",
    "\n",
    "\n",
    "ncrx_score = CrossValidation_KNearestNeighbours(ncrx, ncry,5)\n",
    "print 'KNN ', (ncrx_score)\n",
    "ncrx_list.append(ncrx_score)\n",
    "\n",
    "uennx_score = CrossValidation_KNearestNeighbours(uennx, uenny,5)\n",
    "print 'KNN ', (uennx_score)\n",
    "uennx_list.append(uennx_score)\n",
    "\n",
    "\n",
    "\n",
    "rennx_score = CrossValidation_KNearestNeighbours(rennx, renny,5)\n",
    "print 'KNN ', (rennx_score)\n",
    "rennx_list.append(rennx_score)"
   ]
  },
  {
   "cell_type": "code",
   "execution_count": 81,
   "metadata": {
    "collapsed": false
   },
   "outputs": [
    {
     "name": "stdout",
     "output_type": "stream",
     "text": [
      "AB  [0.83470735825938791]\n",
      "AB  [0.84305555555555556]\n",
      "KNN  [0.83473450627112111]\n",
      "AB  [0.92777777777777781]\n",
      "AB  [0.96388888888888891]\n",
      "AB  [0.97499999999999998]\n",
      "AB  [0.90416666666666679]\n",
      "AB  [0.81928960331864142]\n",
      "AB  [0.83288069207975002]\n",
      "AB  [0.83470573112809932]\n",
      "AB  [0.83478108166244769]\n",
      "AB  [0.8349195151039428]\n"
     ]
    }
   ],
   "source": [
    "# # score = CrossValidation_LogisticRegression_AdaboostClassifier(XtrainData.values,YtrainData.values[:,0])\n",
    "score = CrossValidation_LogisticRegression_AdaboostClassifier(XtrainData.values,YtrainData.values[:,0])\n",
    "print 'AB ', (score)\n",
    "score_featuremcs.append(score)\n",
    "\n",
    "usx_score = CrossValidation_LogisticRegression_AdaboostClassifier(usx,usy)\n",
    "print 'AB ',(usx_score)\n",
    "score_usx_list.append(usx_score)\n",
    "\n",
    "score_TL = CrossValidation_LogisticRegression_AdaboostClassifier(tlx, tly)\n",
    "print 'KNN ',(score_TL)\n",
    "score_TL_list.append(score_TL)\n",
    "\n",
    "\n",
    "score_ccx = CrossValidation_LogisticRegression_AdaboostClassifier(ccx, ccy)\n",
    "print 'AB ', (score_ccx)\n",
    "score_ccx_list.append(score_ccx)\n",
    "\n",
    "nm1x_score = CrossValidation_LogisticRegression_AdaboostClassifier(nm1x, nm1y)\n",
    "print 'AB ', (nm1x_score)\n",
    "nm1x_list.append(nm1x_score)\n",
    "\n",
    "\n",
    "nm2x_score = CrossValidation_LogisticRegression_AdaboostClassifier(nm2x, nm2y)\n",
    "print 'AB ', (nm2x_score)\n",
    "nm2x_list.append(nm2x_score)\n",
    "\n",
    "\n",
    "nm3x_score = CrossValidation_LogisticRegression_AdaboostClassifier(nm3x, nm3y)\n",
    "print 'AB ', (nm3x_score)\n",
    "nm3x_list.append(nm3x_score)\n",
    "\n",
    "cnnx_score= CrossValidation_LogisticRegression_AdaboostClassifier(cnnx, cnny)\n",
    "print 'AB ', (cnnx_score)\n",
    "cnnx_list.append(cnnx_score)\n",
    "\n",
    "ossx_score = CrossValidation_LogisticRegression_AdaboostClassifier(ossx, ossy)\n",
    "print 'AB ', (ossx_score)\n",
    "ossx_list.append(ossx_score)\n",
    "\n",
    "ncrx_score = CrossValidation_LogisticRegression_AdaboostClassifier(ncrx, ncry)\n",
    "print 'AB ', (ncrx_score)\n",
    "ncrx_list.append(ncrx_score)\n",
    "\n",
    "uennx_score = CrossValidation_LogisticRegression_AdaboostClassifier(uennx, uenny)\n",
    "print 'AB ', (uennx_score)\n",
    "uennx_list.append(uennx_score)\n",
    "\n",
    "rennx_score = CrossValidation_LogisticRegression_AdaboostClassifier(rennx, renny)\n",
    "print 'AB ', (rennx_score)\n",
    "rennx_list.append(rennx_score)\n"
   ]
  },
  {
   "cell_type": "code",
   "execution_count": 82,
   "metadata": {
    "collapsed": false
   },
   "outputs": [
    {
     "data": {
      "text/plain": [
       "[[0.9854746768747441],\n",
       " [0.9834047395762392],\n",
       " [0.8346538250688097],\n",
       " [0.99925054965963989],\n",
       " [0.99925055125019013],\n",
       " [0.83470735825938791]]"
      ]
     },
     "execution_count": 82,
     "metadata": {},
     "output_type": "execute_result"
    }
   ],
   "source": [
    "score_featuremcs[3:]"
   ]
  },
  {
   "cell_type": "code",
   "execution_count": 88,
   "metadata": {
    "collapsed": false
   },
   "outputs": [
    {
     "data": {
      "text/plain": [
       "[[0.98661201669903953],\n",
       " [0.98340032507412833],\n",
       " [0.83469880792216988],\n",
       " [0.99926821251475262],\n",
       " [0.99925036333373818],\n",
       " [0.83473450627112111]]"
      ]
     },
     "execution_count": 88,
     "metadata": {},
     "output_type": "execute_result"
    }
   ],
   "source": [
    "score_TL_list[3:]"
   ]
  },
  {
   "cell_type": "code",
   "execution_count": 89,
   "metadata": {
    "collapsed": false
   },
   "outputs": [
    {
     "data": {
      "image/png": "[encoded data removed]",
      "text/plain": [
       "<matplotlib.figure.Figure at 0x40052198>"
      ]
     },
     "metadata": {},
     "output_type": "display_data"
    }
   ],
   "source": [
    "plt.plot(score_featuremcs[3:], label = \"Original 43 Features\")\n",
    "plt.plot(score_usx_list[3:], label = \"Random Undersampling\")\n",
    "plt.plot(score_TL_list[3:], label = \"Tomek Links\")\n",
    "plt.plot(score_ccx_list[3:], label = \"Clustering Centroid\")\n",
    "\n",
    "\n",
    "\n",
    "\n",
    "labels = [\"Random Forest n=100\",\"Naive Bayes\",\"Decision Tree\",\"Logistic Regression\",\"K-Nearest Neighbours n=10\",\"Adaboost\"]\n",
    "plt.xticks(np.arange(len(labels)), labels, rotation='vertical')\n",
    "\n",
    "plt.ylabel('Scores')\n",
    "plt.xlabel('Method')\n",
    "plt.legend(bbox_to_anchor=(1.10, 1), loc=2, borderaxespad=0.)\n",
    "plt.show()"
   ]
  },
  {
   "cell_type": "code",
   "execution_count": 90,
   "metadata": {
    "collapsed": false
   },
   "outputs": [
    {
     "data": {
      "image/png": "[encoded data removed]",
      "text/plain": [
       "<matplotlib.figure.Figure at 0x17a59b70>"
      ]
     },
     "metadata": {},
     "output_type": "display_data"
    }
   ],
   "source": [
    "plt.plot(nm1x_list[3:], label = \"Near Miss 1\")\n",
    "plt.plot(nm2x_list[3:], label = \"NearMiss 2\")\n",
    "plt.plot(nm3x_list[3:], label = \"NearMiss 3\")\n",
    "\n",
    "\n",
    "\n",
    "labels = [\"Random Forest n=100\",\"Naive Bayes\",\"Decision Tree\",\"Logistic Regression\",\"K-Nearest Neighbours n=10\",\"Adaboost\"]\n",
    "plt.xticks(np.arange(len(labels)), labels, rotation='vertical')\n",
    "\n",
    "plt.ylabel('Scores')\n",
    "plt.xlabel('Method')\n",
    "plt.legend(bbox_to_anchor=(1.10, 1), loc=2, borderaxespad=0.)\n",
    "plt.show()"
   ]
  },
  {
   "cell_type": "code",
   "execution_count": 91,
   "metadata": {
    "collapsed": false
   },
   "outputs": [
    {
     "data": {
      "image/png": "[encoded data removed]",
      "text/plain": [
       "<matplotlib.figure.Figure at 0x26a62d30>"
      ]
     },
     "metadata": {},
     "output_type": "display_data"
    }
   ],
   "source": [
    "plt.plot(cnnx_list[3:], label = \"Condensed Nearest Neighbour\")\n",
    "plt.plot(ossx_list[3:], label = \"One Sided Selection\")\n",
    "\n",
    "plt.plot(ncrx_list[3:], label = \"Neighboorhood Cleaning Rule\")\n",
    "plt.plot(uennx_list[3:], label = \"Edited Nearest Neighbours\")\n",
    "\n",
    "plt.plot(rennx_list[3:], label = \"Repeated Edited Nearest Neighbours\")\n",
    "labels = [\"Random Forest n=100\",\"Naive Bayes\",\"Decision Tree\",\"Logistic Regression\",\"K-Nearest Neighbours n=10\",\"Adaboost\"]\n",
    "plt.xticks(np.arange(len(labels)), labels, rotation='vertical')\n",
    "\n",
    "plt.ylabel('Scores')\n",
    "plt.xlabel('Method')\n",
    "plt.legend(bbox_to_anchor=(1.10, 1), loc=2, borderaxespad=0.)\n",
    "plt.show()"
   ]
  },
  {
   "cell_type": "code",
   "execution_count": null,
   "metadata": {
    "collapsed": true
   },
   "outputs": [],
   "source": [
    "labels = [\"Random Forest n=100\",\"Naive Bayes\",\"Decision Tree\",\"Logistic Regression\",\"K-Nearest Neighbours n=10\",\"Adaboost\"]\n",
    "plt.xticks(np.arange(len(labels)), labels, rotation='vertical')\n",
    "\n",
    "plt.ylabel('Scores')\n",
    "plt.xlabel('Method')\n",
    "plt.legend(bbox_to_anchor=(1.10, 1), loc=2, borderaxespad=0.)\n",
    "plt.show()"
   ]
  },
  {
   "cell_type": "code",
   "execution_count": 64,
   "metadata": {
    "collapsed": false
   },
   "outputs": [
    {
     "data": {
      "text/plain": [
       "[[0.88249999999999995],\n",
       " [0.72222222222222221],\n",
       " [0.8402777777777779],\n",
       " [0.78194444444444444],\n",
       " [0.78249999999999997],\n",
       " [0.84305555555555556]]"
      ]
     },
     "execution_count": 64,
     "metadata": {},
     "output_type": "execute_result"
    }
   ],
   "source": [
    "score_usx_list[3:]"
   ]
  },
  {
   "cell_type": "code",
   "execution_count": 63,
   "metadata": {
    "collapsed": false
   },
   "outputs": [],
   "source": [
    "\n",
    "pred = clf.predict(testData)\n"
   ]
  },
  {
   "cell_type": "code",
   "execution_count": null,
   "metadata": {
    "collapsed": false
   },
   "outputs": [],
   "source": [
    "def writePrediction_features(Y_testData):\n",
    "    #Don't forget to change the filename!\n",
    "    y= open(\"Prediction_abundersampling_pca_rf.csv\",\"w\")\n",
    "    y.write(\"Id,label\" + \"\\n\")\n",
    "    try:\n",
    "        xrange\n",
    "    except NameError:\n",
    "        xrange = range\n",
    "    for i in xrange(len(Y_testData)):\n",
    "        y.write(str(i+1) + \",\" + str(int(Y_testData[i]))+ \"\\n\")\n",
    "    y.close()\n"
   ]
  },
  {
   "cell_type": "code",
   "execution_count": null,
   "metadata": {
    "collapsed": false
   },
   "outputs": [],
   "source": [
    "# writePrediction_features(pred7)\n",
    "writePrediction_features(pred)"
   ]
  },
  {
   "cell_type": "code",
   "execution_count": null,
   "metadata": {
    "collapsed": false
   },
   "outputs": [],
   "source": [
    "check_pred = pd.read_csv(\"Prediction_abundersampling_pca_rf.csv\")"
   ]
  },
  {
   "cell_type": "code",
   "execution_count": null,
   "metadata": {
    "collapsed": false
   },
   "outputs": [],
   "source": [
    "check_pred['label'].value_counts() #76%"
   ]
  },
  {
   "cell_type": "code",
   "execution_count": null,
   "metadata": {
    "collapsed": false
   },
   "outputs": [],
   "source": [
    "check_pred['label'].value_counts()"
   ]
  },
  {
   "cell_type": "code",
   "execution_count": null,
   "metadata": {
    "collapsed": true
   },
   "outputs": [],
   "source": []
  },
  {
   "cell_type": "code",
   "execution_count": null,
   "metadata": {
    "collapsed": true
   },
   "outputs": [],
   "source": []
  },
  {
   "cell_type": "code",
   "execution_count": null,
   "metadata": {
    "collapsed": true
   },
   "outputs": [],
   "source": []
  },
  {
   "cell_type": "code",
   "execution_count": null,
   "metadata": {
    "collapsed": true
   },
   "outputs": [],
   "source": []
  },
  {
   "cell_type": "code",
   "execution_count": null,
   "metadata": {
    "collapsed": true
   },
   "outputs": [],
   "source": []
  },
  {
   "cell_type": "code",
   "execution_count": null,
   "metadata": {
    "collapsed": true
   },
   "outputs": [],
   "source": []
  },
  {
   "cell_type": "code",
   "execution_count": null,
   "metadata": {
    "collapsed": true
   },
   "outputs": [],
   "source": []
  },
  {
   "cell_type": "code",
   "execution_count": null,
   "metadata": {
    "collapsed": true
   },
   "outputs": [],
   "source": []
  },
  {
   "cell_type": "code",
   "execution_count": null,
   "metadata": {
    "collapsed": true
   },
   "outputs": [],
   "source": []
  },
  {
   "cell_type": "code",
   "execution_count": null,
   "metadata": {
    "collapsed": true
   },
   "outputs": [],
   "source": []
  },
  {
   "cell_type": "code",
   "execution_count": null,
   "metadata": {
    "collapsed": true
   },
   "outputs": [],
   "source": []
  },
  {
   "cell_type": "code",
   "execution_count": null,
   "metadata": {
    "collapsed": true
   },
   "outputs": [],
   "source": []
  },
  {
   "cell_type": "code",
   "execution_count": null,
   "metadata": {
    "collapsed": true
   },
   "outputs": [],
   "source": []
  },
  {
   "cell_type": "code",
   "execution_count": null,
   "metadata": {
    "collapsed": true
   },
   "outputs": [],
   "source": []
  },
  {
   "cell_type": "code",
   "execution_count": null,
   "metadata": {
    "collapsed": true
   },
   "outputs": [],
   "source": []
  },
  {
   "cell_type": "code",
   "execution_count": null,
   "metadata": {
    "collapsed": true
   },
   "outputs": [],
   "source": []
  },
  {
   "cell_type": "code",
   "execution_count": null,
   "metadata": {
    "collapsed": true
   },
   "outputs": [],
   "source": []
  },
  {
   "cell_type": "code",
   "execution_count": null,
   "metadata": {
    "collapsed": true
   },
   "outputs": [],
   "source": []
  },
  {
   "cell_type": "code",
   "execution_count": null,
   "metadata": {
    "collapsed": true
   },
   "outputs": [],
   "source": []
  },
  {
   "cell_type": "code",
   "execution_count": null,
   "metadata": {
    "collapsed": true
   },
   "outputs": [],
   "source": []
  },
  {
   "cell_type": "code",
   "execution_count": null,
   "metadata": {
    "collapsed": true
   },
   "outputs": [],
   "source": []
  },
  {
   "cell_type": "code",
   "execution_count": null,
   "metadata": {
    "collapsed": true
   },
   "outputs": [],
   "source": []
  },
  {
   "cell_type": "code",
   "execution_count": null,
   "metadata": {
    "collapsed": true
   },
   "outputs": [],
   "source": []
  },
  {
   "cell_type": "code",
   "execution_count": null,
   "metadata": {
    "collapsed": true
   },
   "outputs": [],
   "source": []
  },
  {
   "cell_type": "code",
   "execution_count": null,
   "metadata": {
    "collapsed": true
   },
   "outputs": [],
   "source": []
  },
  {
   "cell_type": "code",
   "execution_count": null,
   "metadata": {
    "collapsed": true
   },
   "outputs": [],
   "source": []
  },
  {
   "cell_type": "code",
   "execution_count": null,
   "metadata": {
    "collapsed": true
   },
   "outputs": [],
   "source": []
  },
  {
   "cell_type": "code",
   "execution_count": null,
   "metadata": {
    "collapsed": true
   },
   "outputs": [],
   "source": []
  },
  {
   "cell_type": "code",
   "execution_count": null,
   "metadata": {
    "collapsed": true
   },
   "outputs": [],
   "source": []
  },
  {
   "cell_type": "code",
   "execution_count": null,
   "metadata": {
    "collapsed": true
   },
   "outputs": [],
   "source": []
  },
  {
   "cell_type": "code",
   "execution_count": null,
   "metadata": {
    "collapsed": true
   },
   "outputs": [],
   "source": []
  },
  {
   "cell_type": "code",
   "execution_count": null,
   "metadata": {
    "collapsed": true
   },
   "outputs": [],
   "source": []
  },
  {
   "cell_type": "code",
   "execution_count": null,
   "metadata": {
    "collapsed": true
   },
   "outputs": [],
   "source": []
  },
  {
   "cell_type": "code",
   "execution_count": null,
   "metadata": {
    "collapsed": true
   },
   "outputs": [],
   "source": []
  },
  {
   "cell_type": "code",
   "execution_count": null,
   "metadata": {
    "collapsed": true
   },
   "outputs": [],
   "source": []
  },
  {
   "cell_type": "code",
   "execution_count": null,
   "metadata": {
    "collapsed": true
   },
   "outputs": [],
   "source": []
  },
  {
   "cell_type": "code",
   "execution_count": null,
   "metadata": {
    "collapsed": true
   },
   "outputs": [],
   "source": []
  },
  {
   "cell_type": "code",
   "execution_count": null,
   "metadata": {
    "collapsed": true
   },
   "outputs": [],
   "source": []
  },
  {
   "cell_type": "code",
   "execution_count": null,
   "metadata": {
    "collapsed": true
   },
   "outputs": [],
   "source": []
  },
  {
   "cell_type": "code",
   "execution_count": null,
   "metadata": {
    "collapsed": true
   },
   "outputs": [],
   "source": []
  },
  {
   "cell_type": "code",
   "execution_count": null,
   "metadata": {
    "collapsed": true
   },
   "outputs": [],
   "source": []
  },
  {
   "cell_type": "code",
   "execution_count": null,
   "metadata": {
    "collapsed": true
   },
   "outputs": [],
   "source": []
  },
  {
   "cell_type": "code",
   "execution_count": null,
   "metadata": {
    "collapsed": true
   },
   "outputs": [],
   "source": []
  },
  {
   "cell_type": "code",
   "execution_count": null,
   "metadata": {
    "collapsed": true
   },
   "outputs": [],
   "source": []
  },
  {
   "cell_type": "code",
   "execution_count": null,
   "metadata": {
    "collapsed": true
   },
   "outputs": [],
   "source": []
  },
  {
   "cell_type": "code",
   "execution_count": null,
   "metadata": {
    "collapsed": true
   },
   "outputs": [],
   "source": []
  },
  {
   "cell_type": "code",
   "execution_count": null,
   "metadata": {
    "collapsed": true
   },
   "outputs": [],
   "source": []
  },
  {
   "cell_type": "code",
   "execution_count": null,
   "metadata": {
    "collapsed": true
   },
   "outputs": [],
   "source": []
  },
  {
   "cell_type": "code",
   "execution_count": null,
   "metadata": {
    "collapsed": true
   },
   "outputs": [],
   "source": []
  },
  {
   "cell_type": "code",
   "execution_count": null,
   "metadata": {
    "collapsed": true
   },
   "outputs": [],
   "source": []
  },
  {
   "cell_type": "code",
   "execution_count": null,
   "metadata": {
    "collapsed": true
   },
   "outputs": [],
   "source": []
  },
  {
   "cell_type": "code",
   "execution_count": null,
   "metadata": {
    "collapsed": true
   },
   "outputs": [],
   "source": []
  },
  {
   "cell_type": "code",
   "execution_count": null,
   "metadata": {
    "collapsed": true
   },
   "outputs": [],
   "source": []
  },
  {
   "cell_type": "code",
   "execution_count": null,
   "metadata": {
    "collapsed": true
   },
   "outputs": [],
   "source": []
  },
  {
   "cell_type": "code",
   "execution_count": null,
   "metadata": {
    "collapsed": true
   },
   "outputs": [],
   "source": []
  },
  {
   "cell_type": "code",
   "execution_count": null,
   "metadata": {
    "collapsed": true
   },
   "outputs": [],
   "source": []
  },
  {
   "cell_type": "code",
   "execution_count": null,
   "metadata": {
    "collapsed": true
   },
   "outputs": [],
   "source": []
  },
  {
   "cell_type": "code",
   "execution_count": null,
   "metadata": {
    "collapsed": true
   },
   "outputs": [],
   "source": []
  },
  {
   "cell_type": "code",
   "execution_count": null,
   "metadata": {
    "collapsed": true
   },
   "outputs": [],
   "source": []
  },
  {
   "cell_type": "code",
   "execution_count": null,
   "metadata": {
    "collapsed": true
   },
   "outputs": [],
   "source": []
  },
  {
   "cell_type": "code",
   "execution_count": null,
   "metadata": {
    "collapsed": true
   },
   "outputs": [],
   "source": []
  },
  {
   "cell_type": "code",
   "execution_count": null,
   "metadata": {
    "collapsed": true
   },
   "outputs": [],
   "source": []
  },
  {
   "cell_type": "code",
   "execution_count": null,
   "metadata": {
    "collapsed": true
   },
   "outputs": [],
   "source": []
  },
  {
   "cell_type": "code",
   "execution_count": null,
   "metadata": {
    "collapsed": true
   },
   "outputs": [],
   "source": []
  },
  {
   "cell_type": "code",
   "execution_count": null,
   "metadata": {
    "collapsed": true
   },
   "outputs": [],
   "source": []
  },
  {
   "cell_type": "code",
   "execution_count": null,
   "metadata": {
    "collapsed": true
   },
   "outputs": [],
   "source": []
  },
  {
   "cell_type": "code",
   "execution_count": null,
   "metadata": {
    "collapsed": true
   },
   "outputs": [],
   "source": []
  },
  {
   "cell_type": "code",
   "execution_count": null,
   "metadata": {
    "collapsed": true
   },
   "outputs": [],
   "source": []
  },
  {
   "cell_type": "code",
   "execution_count": null,
   "metadata": {
    "collapsed": true
   },
   "outputs": [],
   "source": []
  },
  {
   "cell_type": "code",
   "execution_count": null,
   "metadata": {
    "collapsed": true
   },
   "outputs": [],
   "source": []
  },
  {
   "cell_type": "code",
   "execution_count": null,
   "metadata": {
    "collapsed": true
   },
   "outputs": [],
   "source": []
  },
  {
   "cell_type": "code",
   "execution_count": null,
   "metadata": {
    "collapsed": true
   },
   "outputs": [],
   "source": []
  },
  {
   "cell_type": "code",
   "execution_count": null,
   "metadata": {
    "collapsed": true
   },
   "outputs": [],
   "source": []
  },
  {
   "cell_type": "code",
   "execution_count": null,
   "metadata": {
    "collapsed": true
   },
   "outputs": [],
   "source": []
  }
 ],
 "metadata": {
  "anaconda-cloud": {},
  "kernelspec": {
   "display_name": "Python 3",
   "language": "python",
   "name": "python3"
  },
  "language_info": {
   "codemirror_mode": {
    "name": "ipython",
    "version": 3
   },
   "file_extension": ".py",
   "mimetype": "text/x-python",
   "name": "python",
   "nbconvert_exporter": "python",
   "pygments_lexer": "ipython3",
   "version": "3.4.3"
  }
 },
 "nbformat": 4,
 "nbformat_minor": 1
}
